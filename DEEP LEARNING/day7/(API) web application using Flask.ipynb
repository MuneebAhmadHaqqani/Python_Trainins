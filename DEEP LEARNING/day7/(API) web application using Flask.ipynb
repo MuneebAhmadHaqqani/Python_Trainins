{
 "cells": [
  {
   "cell_type": "code",
   "execution_count": 6,
   "metadata": {},
   "outputs": [
    {
     "name": "stdout",
     "output_type": "stream",
     "text": [
      " * Serving Flask app \"__main__\" (lazy loading)\n",
      " * Environment: production\n",
      "   WARNING: This is a development server. Do not use it in a production deployment.\n",
      "   Use a production WSGI server instead.\n",
      " * Debug mode: off\n"
     ]
    },
    {
     "name": "stderr",
     "output_type": "stream",
     "text": [
      " * Running on http://127.0.0.1:5000/ (Press CTRL+C to quit)\n",
      "127.0.0.1 - - [03/Oct/2021 13:36:46] \"\u001b[37mPOST /api/flower HTTP/1.1\u001b[0m\" 200 -\n",
      "127.0.0.1 - - [03/Oct/2021 13:39:55] \"\u001b[37mPOST /api/flower HTTP/1.1\u001b[0m\" 200 -\n",
      "127.0.0.1 - - [03/Oct/2021 13:40:32] \"\u001b[37mPOST /api/flower HTTP/1.1\u001b[0m\" 200 -\n",
      "127.0.0.1 - - [03/Oct/2021 13:46:37] \"\u001b[37mPOST /api/flower HTTP/1.1\u001b[0m\" 200 -\n",
      "127.0.0.1 - - [03/Oct/2021 13:49:44] \"\u001b[37mPOST /api/flower HTTP/1.1\u001b[0m\" 200 -\n"
     ]
    }
   ],
   "source": [
    "from flask import Flask,request,jsonify\n",
    "import numpy as np\n",
    "import pandas as pd\n",
    "import joblib\n",
    "from tensorflow.keras.models import load_model\n",
    "\n",
    "\n",
    "def iris_pred(model,scaler,input):\n",
    "    \n",
    "    a=input[\"sepal_length\"]\n",
    "    b=input[\"sepal_width\"]\n",
    "    c=input[\"petal_length\"]\n",
    "    d=input[\"petal_width\"]\n",
    "    \n",
    "    \n",
    "    cor_input=[[a,b,c,d]]\n",
    "    \n",
    "    #classes=np.array(['setosa', 'versicolor', 'virginica'])\n",
    "    \n",
    "    scaled_input=scaler.fit_transform(cor_input)\n",
    "    pred=model.predict_classes(scaled_input)\n",
    "    pred=str(pred[0])\n",
    "    \n",
    "    return pred\n",
    "\n",
    "\n",
    "app=Flask(__name__)\n",
    "\n",
    "@app.route('/')\n",
    "def index():\n",
    "    return '<h1>App is running!<h1>'\n",
    "\n",
    "iris_model=load_model(r\"C:\\Users\\etisalat\\Deep learning - Sep\\final_model.h5\")\n",
    "iris_scaler=joblib.load(r\"C:\\Users\\etisalat\\Deep learning - Sep\\scaler.pkl\")\n",
    "\n",
    "\n",
    "@app.route('/api/flower',methods=['POST'])\n",
    "def predict_flower():\n",
    "    \n",
    "    content=request.json\n",
    "    result=iris_pred(model=iris_model,scaler=iris_scaler,input=content)\n",
    "    return jsonify(result)\n",
    "\n",
    "if __name__==\"__main__\":\n",
    "    app.run()\n"
   ]
  },
  {
   "cell_type": "code",
   "execution_count": null,
   "metadata": {},
   "outputs": [],
   "source": []
  }
 ],
 "metadata": {
  "kernelspec": {
   "display_name": "Python 3",
   "language": "python",
   "name": "python3"
  },
  "language_info": {
   "codemirror_mode": {
    "name": "ipython",
    "version": 3
   },
   "file_extension": ".py",
   "mimetype": "text/x-python",
   "name": "python",
   "nbconvert_exporter": "python",
   "pygments_lexer": "ipython3",
   "version": "3.6.5"
  }
 },
 "nbformat": 4,
 "nbformat_minor": 4
}
