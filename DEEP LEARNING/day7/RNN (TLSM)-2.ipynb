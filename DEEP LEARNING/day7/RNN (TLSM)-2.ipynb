{
 "cells": [
  {
   "cell_type": "code",
   "execution_count": 1,
   "metadata": {},
   "outputs": [],
   "source": [
    "import numpy as np\n",
    "import pandas as pd\n",
    "import matplotlib.pyplot as plt"
   ]
  },
  {
   "cell_type": "code",
   "execution_count": 2,
   "metadata": {},
   "outputs": [],
   "source": [
    "data=pd.read_csv(r\"/Users/vineet/Desktop/DeepLearning/Material/day7/sales_data_LSTM.csv\",parse_dates=True,index_col=\"DATE\")"
   ]
  },
  {
   "cell_type": "code",
   "execution_count": 3,
   "metadata": {},
   "outputs": [
    {
     "data": {
      "text/html": [
       "<div>\n",
       "<style scoped>\n",
       "    .dataframe tbody tr th:only-of-type {\n",
       "        vertical-align: middle;\n",
       "    }\n",
       "\n",
       "    .dataframe tbody tr th {\n",
       "        vertical-align: top;\n",
       "    }\n",
       "\n",
       "    .dataframe thead th {\n",
       "        text-align: right;\n",
       "    }\n",
       "</style>\n",
       "<table border=\"1\" class=\"dataframe\">\n",
       "  <thead>\n",
       "    <tr style=\"text-align: right;\">\n",
       "      <th></th>\n",
       "      <th>RSCCASN</th>\n",
       "    </tr>\n",
       "    <tr>\n",
       "      <th>DATE</th>\n",
       "      <th></th>\n",
       "    </tr>\n",
       "  </thead>\n",
       "  <tbody>\n",
       "    <tr>\n",
       "      <th>1992-01-01</th>\n",
       "      <td>6938</td>\n",
       "    </tr>\n",
       "    <tr>\n",
       "      <th>1992-02-01</th>\n",
       "      <td>7524</td>\n",
       "    </tr>\n",
       "    <tr>\n",
       "      <th>1992-03-01</th>\n",
       "      <td>8475</td>\n",
       "    </tr>\n",
       "    <tr>\n",
       "      <th>1992-04-01</th>\n",
       "      <td>9401</td>\n",
       "    </tr>\n",
       "    <tr>\n",
       "      <th>1992-05-01</th>\n",
       "      <td>9558</td>\n",
       "    </tr>\n",
       "  </tbody>\n",
       "</table>\n",
       "</div>"
      ],
      "text/plain": [
       "            RSCCASN\n",
       "DATE               \n",
       "1992-01-01     6938\n",
       "1992-02-01     7524\n",
       "1992-03-01     8475\n",
       "1992-04-01     9401\n",
       "1992-05-01     9558"
      ]
     },
     "execution_count": 3,
     "metadata": {},
     "output_type": "execute_result"
    }
   ],
   "source": [
    "data.head()"
   ]
  },
  {
   "cell_type": "code",
   "execution_count": 4,
   "metadata": {},
   "outputs": [
    {
     "data": {
      "text/html": [
       "<div>\n",
       "<style scoped>\n",
       "    .dataframe tbody tr th:only-of-type {\n",
       "        vertical-align: middle;\n",
       "    }\n",
       "\n",
       "    .dataframe tbody tr th {\n",
       "        vertical-align: top;\n",
       "    }\n",
       "\n",
       "    .dataframe thead th {\n",
       "        text-align: right;\n",
       "    }\n",
       "</style>\n",
       "<table border=\"1\" class=\"dataframe\">\n",
       "  <thead>\n",
       "    <tr style=\"text-align: right;\">\n",
       "      <th></th>\n",
       "      <th>RSCCASN</th>\n",
       "    </tr>\n",
       "    <tr>\n",
       "      <th>DATE</th>\n",
       "      <th></th>\n",
       "    </tr>\n",
       "  </thead>\n",
       "  <tbody>\n",
       "    <tr>\n",
       "      <th>2019-06-01</th>\n",
       "      <td>21123</td>\n",
       "    </tr>\n",
       "    <tr>\n",
       "      <th>2019-07-01</th>\n",
       "      <td>21714</td>\n",
       "    </tr>\n",
       "    <tr>\n",
       "      <th>2019-08-01</th>\n",
       "      <td>23791</td>\n",
       "    </tr>\n",
       "    <tr>\n",
       "      <th>2019-09-01</th>\n",
       "      <td>19695</td>\n",
       "    </tr>\n",
       "    <tr>\n",
       "      <th>2019-10-01</th>\n",
       "      <td>21113</td>\n",
       "    </tr>\n",
       "  </tbody>\n",
       "</table>\n",
       "</div>"
      ],
      "text/plain": [
       "            RSCCASN\n",
       "DATE               \n",
       "2019-06-01    21123\n",
       "2019-07-01    21714\n",
       "2019-08-01    23791\n",
       "2019-09-01    19695\n",
       "2019-10-01    21113"
      ]
     },
     "execution_count": 4,
     "metadata": {},
     "output_type": "execute_result"
    }
   ],
   "source": [
    "data.tail()"
   ]
  },
  {
   "cell_type": "code",
   "execution_count": 5,
   "metadata": {},
   "outputs": [
    {
     "name": "stdout",
     "output_type": "stream",
     "text": [
      "<class 'pandas.core.frame.DataFrame'>\n",
      "DatetimeIndex: 334 entries, 1992-01-01 to 2019-10-01\n",
      "Data columns (total 1 columns):\n",
      " #   Column   Non-Null Count  Dtype\n",
      "---  ------   --------------  -----\n",
      " 0   RSCCASN  334 non-null    int64\n",
      "dtypes: int64(1)\n",
      "memory usage: 5.2 KB\n"
     ]
    }
   ],
   "source": [
    "data.info()"
   ]
  },
  {
   "cell_type": "code",
   "execution_count": 6,
   "metadata": {},
   "outputs": [],
   "source": [
    "data.columns=[\"Sales\"]"
   ]
  },
  {
   "cell_type": "code",
   "execution_count": 7,
   "metadata": {},
   "outputs": [
    {
     "data": {
      "text/html": [
       "<div>\n",
       "<style scoped>\n",
       "    .dataframe tbody tr th:only-of-type {\n",
       "        vertical-align: middle;\n",
       "    }\n",
       "\n",
       "    .dataframe tbody tr th {\n",
       "        vertical-align: top;\n",
       "    }\n",
       "\n",
       "    .dataframe thead th {\n",
       "        text-align: right;\n",
       "    }\n",
       "</style>\n",
       "<table border=\"1\" class=\"dataframe\">\n",
       "  <thead>\n",
       "    <tr style=\"text-align: right;\">\n",
       "      <th></th>\n",
       "      <th>Sales</th>\n",
       "    </tr>\n",
       "    <tr>\n",
       "      <th>DATE</th>\n",
       "      <th></th>\n",
       "    </tr>\n",
       "  </thead>\n",
       "  <tbody>\n",
       "    <tr>\n",
       "      <th>1992-01-01</th>\n",
       "      <td>6938</td>\n",
       "    </tr>\n",
       "    <tr>\n",
       "      <th>1992-02-01</th>\n",
       "      <td>7524</td>\n",
       "    </tr>\n",
       "    <tr>\n",
       "      <th>1992-03-01</th>\n",
       "      <td>8475</td>\n",
       "    </tr>\n",
       "    <tr>\n",
       "      <th>1992-04-01</th>\n",
       "      <td>9401</td>\n",
       "    </tr>\n",
       "    <tr>\n",
       "      <th>1992-05-01</th>\n",
       "      <td>9558</td>\n",
       "    </tr>\n",
       "  </tbody>\n",
       "</table>\n",
       "</div>"
      ],
      "text/plain": [
       "            Sales\n",
       "DATE             \n",
       "1992-01-01   6938\n",
       "1992-02-01   7524\n",
       "1992-03-01   8475\n",
       "1992-04-01   9401\n",
       "1992-05-01   9558"
      ]
     },
     "execution_count": 7,
     "metadata": {},
     "output_type": "execute_result"
    }
   ],
   "source": [
    "data.head()"
   ]
  },
  {
   "cell_type": "code",
   "execution_count": 8,
   "metadata": {},
   "outputs": [
    {
     "data": {
      "text/plain": [
       "(334, 1)"
      ]
     },
     "execution_count": 8,
     "metadata": {},
     "output_type": "execute_result"
    }
   ],
   "source": [
    "data.shape"
   ]
  },
  {
   "cell_type": "code",
   "execution_count": 9,
   "metadata": {},
   "outputs": [],
   "source": [
    "#plt.plot(data[\"Sales\"])"
   ]
  },
  {
   "cell_type": "code",
   "execution_count": 10,
   "metadata": {},
   "outputs": [
    {
     "data": {
      "image/png": "[encoded data removed]",
      "text/plain": [
       "<Figure size 432x288 with 1 Axes>"
      ]
     },
     "metadata": {
      "needs_background": "light"
     },
     "output_type": "display_data"
    }
   ],
   "source": [
    "data.plot()\n",
    "plt.show()"
   ]
  },
  {
   "cell_type": "markdown",
   "metadata": {},
   "source": [
    "### split the data into xtrain , xtest"
   ]
  },
  {
   "cell_type": "code",
   "execution_count": 11,
   "metadata": {},
   "outputs": [
    {
     "data": {
      "text/plain": [
       "(334, 1)"
      ]
     },
     "execution_count": 11,
     "metadata": {},
     "output_type": "execute_result"
    }
   ],
   "source": [
    "data.shape"
   ]
  },
  {
   "cell_type": "code",
   "execution_count": 12,
   "metadata": {},
   "outputs": [],
   "source": [
    "test_size=18\n",
    "test_index=data.shape[0]-test_size"
   ]
  },
  {
   "cell_type": "code",
   "execution_count": 13,
   "metadata": {},
   "outputs": [
    {
     "data": {
      "text/plain": [
       "316"
      ]
     },
     "execution_count": 13,
     "metadata": {},
     "output_type": "execute_result"
    }
   ],
   "source": [
    "test_index"
   ]
  },
  {
   "cell_type": "code",
   "execution_count": 14,
   "metadata": {},
   "outputs": [],
   "source": [
    "#data.iloc[r,c]\n",
    "train=data.iloc[:test_index,:]\n",
    "test=data.iloc[test_index:,:]"
   ]
  },
  {
   "cell_type": "code",
   "execution_count": 15,
   "metadata": {},
   "outputs": [
    {
     "data": {
      "text/html": [
       "<div>\n",
       "<style scoped>\n",
       "    .dataframe tbody tr th:only-of-type {\n",
       "        vertical-align: middle;\n",
       "    }\n",
       "\n",
       "    .dataframe tbody tr th {\n",
       "        vertical-align: top;\n",
       "    }\n",
       "\n",
       "    .dataframe thead th {\n",
       "        text-align: right;\n",
       "    }\n",
       "</style>\n",
       "<table border=\"1\" class=\"dataframe\">\n",
       "  <thead>\n",
       "    <tr style=\"text-align: right;\">\n",
       "      <th></th>\n",
       "      <th>Sales</th>\n",
       "    </tr>\n",
       "    <tr>\n",
       "      <th>DATE</th>\n",
       "      <th></th>\n",
       "    </tr>\n",
       "  </thead>\n",
       "  <tbody>\n",
       "    <tr>\n",
       "      <th>1992-01-01</th>\n",
       "      <td>6938</td>\n",
       "    </tr>\n",
       "    <tr>\n",
       "      <th>1992-02-01</th>\n",
       "      <td>7524</td>\n",
       "    </tr>\n",
       "    <tr>\n",
       "      <th>1992-03-01</th>\n",
       "      <td>8475</td>\n",
       "    </tr>\n",
       "    <tr>\n",
       "      <th>1992-04-01</th>\n",
       "      <td>9401</td>\n",
       "    </tr>\n",
       "    <tr>\n",
       "      <th>1992-05-01</th>\n",
       "      <td>9558</td>\n",
       "    </tr>\n",
       "    <tr>\n",
       "      <th>...</th>\n",
       "      <td>...</td>\n",
       "    </tr>\n",
       "    <tr>\n",
       "      <th>2017-12-01</th>\n",
       "      <td>33720</td>\n",
       "    </tr>\n",
       "    <tr>\n",
       "      <th>2018-01-01</th>\n",
       "      <td>15881</td>\n",
       "    </tr>\n",
       "    <tr>\n",
       "      <th>2018-02-01</th>\n",
       "      <td>18585</td>\n",
       "    </tr>\n",
       "    <tr>\n",
       "      <th>2018-03-01</th>\n",
       "      <td>22404</td>\n",
       "    </tr>\n",
       "    <tr>\n",
       "      <th>2018-04-01</th>\n",
       "      <td>20616</td>\n",
       "    </tr>\n",
       "  </tbody>\n",
       "</table>\n",
       "<p>316 rows × 1 columns</p>\n",
       "</div>"
      ],
      "text/plain": [
       "            Sales\n",
       "DATE             \n",
       "1992-01-01   6938\n",
       "1992-02-01   7524\n",
       "1992-03-01   8475\n",
       "1992-04-01   9401\n",
       "1992-05-01   9558\n",
       "...           ...\n",
       "2017-12-01  33720\n",
       "2018-01-01  15881\n",
       "2018-02-01  18585\n",
       "2018-03-01  22404\n",
       "2018-04-01  20616\n",
       "\n",
       "[316 rows x 1 columns]"
      ]
     },
     "execution_count": 15,
     "metadata": {},
     "output_type": "execute_result"
    }
   ],
   "source": [
    "train"
   ]
  },
  {
   "cell_type": "code",
   "execution_count": 16,
   "metadata": {},
   "outputs": [
    {
     "data": {
      "text/html": [
       "<div>\n",
       "<style scoped>\n",
       "    .dataframe tbody tr th:only-of-type {\n",
       "        vertical-align: middle;\n",
       "    }\n",
       "\n",
       "    .dataframe tbody tr th {\n",
       "        vertical-align: top;\n",
       "    }\n",
       "\n",
       "    .dataframe thead th {\n",
       "        text-align: right;\n",
       "    }\n",
       "</style>\n",
       "<table border=\"1\" class=\"dataframe\">\n",
       "  <thead>\n",
       "    <tr style=\"text-align: right;\">\n",
       "      <th></th>\n",
       "      <th>Sales</th>\n",
       "    </tr>\n",
       "    <tr>\n",
       "      <th>DATE</th>\n",
       "      <th></th>\n",
       "    </tr>\n",
       "  </thead>\n",
       "  <tbody>\n",
       "    <tr>\n",
       "      <th>2018-05-01</th>\n",
       "      <td>23764</td>\n",
       "    </tr>\n",
       "    <tr>\n",
       "      <th>2018-06-01</th>\n",
       "      <td>21589</td>\n",
       "    </tr>\n",
       "    <tr>\n",
       "      <th>2018-07-01</th>\n",
       "      <td>21919</td>\n",
       "    </tr>\n",
       "    <tr>\n",
       "      <th>2018-08-01</th>\n",
       "      <td>23381</td>\n",
       "    </tr>\n",
       "    <tr>\n",
       "      <th>2018-09-01</th>\n",
       "      <td>20260</td>\n",
       "    </tr>\n",
       "    <tr>\n",
       "      <th>2018-10-01</th>\n",
       "      <td>21473</td>\n",
       "    </tr>\n",
       "    <tr>\n",
       "      <th>2018-11-01</th>\n",
       "      <td>25831</td>\n",
       "    </tr>\n",
       "    <tr>\n",
       "      <th>2018-12-01</th>\n",
       "      <td>34706</td>\n",
       "    </tr>\n",
       "    <tr>\n",
       "      <th>2019-01-01</th>\n",
       "      <td>16410</td>\n",
       "    </tr>\n",
       "    <tr>\n",
       "      <th>2019-02-01</th>\n",
       "      <td>18134</td>\n",
       "    </tr>\n",
       "    <tr>\n",
       "      <th>2019-03-01</th>\n",
       "      <td>22093</td>\n",
       "    </tr>\n",
       "    <tr>\n",
       "      <th>2019-04-01</th>\n",
       "      <td>21597</td>\n",
       "    </tr>\n",
       "    <tr>\n",
       "      <th>2019-05-01</th>\n",
       "      <td>23200</td>\n",
       "    </tr>\n",
       "    <tr>\n",
       "      <th>2019-06-01</th>\n",
       "      <td>21123</td>\n",
       "    </tr>\n",
       "    <tr>\n",
       "      <th>2019-07-01</th>\n",
       "      <td>21714</td>\n",
       "    </tr>\n",
       "    <tr>\n",
       "      <th>2019-08-01</th>\n",
       "      <td>23791</td>\n",
       "    </tr>\n",
       "    <tr>\n",
       "      <th>2019-09-01</th>\n",
       "      <td>19695</td>\n",
       "    </tr>\n",
       "    <tr>\n",
       "      <th>2019-10-01</th>\n",
       "      <td>21113</td>\n",
       "    </tr>\n",
       "  </tbody>\n",
       "</table>\n",
       "</div>"
      ],
      "text/plain": [
       "            Sales\n",
       "DATE             \n",
       "2018-05-01  23764\n",
       "2018-06-01  21589\n",
       "2018-07-01  21919\n",
       "2018-08-01  23381\n",
       "2018-09-01  20260\n",
       "2018-10-01  21473\n",
       "2018-11-01  25831\n",
       "2018-12-01  34706\n",
       "2019-01-01  16410\n",
       "2019-02-01  18134\n",
       "2019-03-01  22093\n",
       "2019-04-01  21597\n",
       "2019-05-01  23200\n",
       "2019-06-01  21123\n",
       "2019-07-01  21714\n",
       "2019-08-01  23791\n",
       "2019-09-01  19695\n",
       "2019-10-01  21113"
      ]
     },
     "execution_count": 16,
     "metadata": {},
     "output_type": "execute_result"
    }
   ],
   "source": [
    "test"
   ]
  },
  {
   "cell_type": "markdown",
   "metadata": {},
   "source": [
    "### normalization"
   ]
  },
  {
   "cell_type": "code",
   "execution_count": 17,
   "metadata": {},
   "outputs": [],
   "source": [
    "from sklearn.preprocessing import MinMaxScaler"
   ]
  },
  {
   "cell_type": "code",
   "execution_count": 18,
   "metadata": {},
   "outputs": [
    {
     "data": {
      "text/plain": [
       "MinMaxScaler()"
      ]
     },
     "execution_count": 18,
     "metadata": {},
     "output_type": "execute_result"
    }
   ],
   "source": [
    "scaler=MinMaxScaler()\n",
    "scaler.fit(train)"
   ]
  },
  {
   "cell_type": "code",
   "execution_count": 19,
   "metadata": {},
   "outputs": [],
   "source": [
    "train_scaled=scaler.transform(train)\n",
    "test_scaled=scaler.transform(test)"
   ]
  },
  {
   "cell_type": "code",
   "execution_count": 20,
   "metadata": {},
   "outputs": [
    {
     "data": {
      "text/plain": [
       "array([[0.        ],\n",
       "       [0.02127505],\n",
       "       [0.05580163],\n",
       "       [0.08942056],\n",
       "       [0.09512053],\n",
       "       [0.08146965],\n",
       "       [0.07860151],\n",
       "       [0.12979233],\n",
       "       [0.09566512],\n",
       "       [0.1203892 ],\n",
       "       [0.15426227],\n",
       "       [0.41595266],\n",
       "       [0.02047633],\n",
       "       [0.02127505],\n",
       "       [0.06636654],\n",
       "       [0.10633895],\n",
       "       [0.11345484],\n",
       "       [0.09791606],\n",
       "       [0.10368864],\n",
       "       [0.13396747],\n",
       "       [0.11163956],\n",
       "       [0.12372931],\n",
       "       [0.17506535],\n",
       "       [0.43250799],\n",
       "       [0.0124165 ],\n",
       "       [0.03499855],\n",
       "       [0.10829945],\n",
       "       [0.10641156],\n",
       "       [0.11149434],\n",
       "       [0.10728289],\n",
       "       [0.10154662],\n",
       "       [0.1531731 ],\n",
       "       [0.11904589],\n",
       "       [0.13767064],\n",
       "       [0.19663085],\n",
       "       [0.47480395],\n",
       "       [0.02105722],\n",
       "       [0.03714058],\n",
       "       [0.10445106],\n",
       "       [0.11726692],\n",
       "       [0.13367703],\n",
       "       [0.12209556],\n",
       "       [0.10332559],\n",
       "       [0.1570578 ],\n",
       "       [0.13694453],\n",
       "       [0.12710572],\n",
       "       [0.21104415],\n",
       "       [0.47429567],\n",
       "       [0.02708394],\n",
       "       [0.07453529],\n",
       "       [0.12383822],\n",
       "       [0.13186175],\n",
       "       [0.16217688],\n",
       "       [0.13128086],\n",
       "       [0.11850131],\n",
       "       [0.18864362],\n",
       "       [0.13378594],\n",
       "       [0.15654952],\n",
       "       [0.21554604],\n",
       "       [0.47218995],\n",
       "       [0.04559977],\n",
       "       [0.06887162],\n",
       "       [0.14166425],\n",
       "       [0.11592361],\n",
       "       [0.16580744],\n",
       "       [0.13491141],\n",
       "       [0.13781586],\n",
       "       [0.20051554],\n",
       "       [0.14536741],\n",
       "       [0.17052716],\n",
       "       [0.22894278],\n",
       "       [0.51481266],\n",
       "       [0.06760093],\n",
       "       [0.09297851],\n",
       "       [0.14249927],\n",
       "       [0.17742521],\n",
       "       [0.19245571],\n",
       "       [0.16384694],\n",
       "       [0.17045455],\n",
       "       [0.21903137],\n",
       "       [0.15524252],\n",
       "       [0.19772001],\n",
       "       [0.25108917],\n",
       "       [0.56200988],\n",
       "       [0.08346645],\n",
       "       [0.11737584],\n",
       "       [0.18671943],\n",
       "       [0.19779262],\n",
       "       [0.22614726],\n",
       "       [0.19394423],\n",
       "       [0.20051554],\n",
       "       [0.2467325 ],\n",
       "       [0.19673976],\n",
       "       [0.21819634],\n",
       "       [0.27973424],\n",
       "       [0.62982864],\n",
       "       [0.09109062],\n",
       "       [0.15364508],\n",
       "       [0.21431165],\n",
       "       [0.22458612],\n",
       "       [0.24676881],\n",
       "       [0.21837787],\n",
       "       [0.20193146],\n",
       "       [0.27853616],\n",
       "       [0.23369881],\n",
       "       [0.23348098],\n",
       "       [0.31720157],\n",
       "       [0.65121261],\n",
       "       [0.11334592],\n",
       "       [0.16381063],\n",
       "       [0.2225167 ],\n",
       "       [0.23322684],\n",
       "       [0.24865669],\n",
       "       [0.21772437],\n",
       "       [0.20556201],\n",
       "       [0.28608771],\n",
       "       [0.18755446],\n",
       "       [0.22799884],\n",
       "       [0.30547488],\n",
       "       [0.63883241],\n",
       "       [0.12365669],\n",
       "       [0.17397618],\n",
       "       [0.25555475],\n",
       "       [0.22716381],\n",
       "       [0.26183561],\n",
       "       [0.22770839],\n",
       "       [0.21547342],\n",
       "       [0.29679785],\n",
       "       [0.19993465],\n",
       "       [0.25660761],\n",
       "       [0.32576968],\n",
       "       [0.66845774],\n",
       "       [0.14035725],\n",
       "       [0.17150741],\n",
       "       [0.23649434],\n",
       "       [0.24517136],\n",
       "       [0.28289283],\n",
       "       [0.23809178],\n",
       "       [0.25108917],\n",
       "       [0.31164682],\n",
       "       [0.24066947],\n",
       "       [0.27820941],\n",
       "       [0.34915045],\n",
       "       [0.71964856],\n",
       "       [0.17615452],\n",
       "       [0.23257334],\n",
       "       [0.28398199],\n",
       "       [0.29480105],\n",
       "       [0.30645513],\n",
       "       [0.26499419],\n",
       "       [0.28060558],\n",
       "       [0.31404299],\n",
       "       [0.26452222],\n",
       "       [0.31338949],\n",
       "       [0.37365669],\n",
       "       [0.77940749],\n",
       "       [0.18544874],\n",
       "       [0.2519605 ],\n",
       "       [0.31908946],\n",
       "       [0.31839965],\n",
       "       [0.32860151],\n",
       "       [0.31299012],\n",
       "       [0.30060993],\n",
       "       [0.35430584],\n",
       "       [0.2912431 ],\n",
       "       [0.3474804 ],\n",
       "       [0.4162068 ],\n",
       "       [0.84729887],\n",
       "       [0.21619954],\n",
       "       [0.27359861],\n",
       "       [0.34301481],\n",
       "       [0.35978798],\n",
       "       [0.36904589],\n",
       "       [0.34733517],\n",
       "       [0.3389849 ],\n",
       "       [0.39551263],\n",
       "       [0.35684723],\n",
       "       [0.37449172],\n",
       "       [0.45211298],\n",
       "       [0.89035725],\n",
       "       [0.25373947],\n",
       "       [0.29549085],\n",
       "       [0.40324572],\n",
       "       [0.36879175],\n",
       "       [0.4188208 ],\n",
       "       [0.37579872],\n",
       "       [0.36105867],\n",
       "       [0.43247168],\n",
       "       [0.35677462],\n",
       "       [0.38759802],\n",
       "       [0.49419111],\n",
       "       [0.86033256],\n",
       "       [0.26267064],\n",
       "       [0.32449898],\n",
       "       [0.39326169],\n",
       "       [0.36904589],\n",
       "       [0.44096718],\n",
       "       [0.36556056],\n",
       "       [0.37870317],\n",
       "       [0.43940604],\n",
       "       [0.32471682],\n",
       "       [0.35790009],\n",
       "       [0.42905896],\n",
       "       [0.71841417],\n",
       "       [0.23413448],\n",
       "       [0.28122277],\n",
       "       [0.31313535],\n",
       "       [0.34123584],\n",
       "       [0.37489108],\n",
       "       [0.30845193],\n",
       "       [0.32925501],\n",
       "       [0.38912286],\n",
       "       [0.31556782],\n",
       "       [0.36723061],\n",
       "       [0.41366541],\n",
       "       [0.733009  ],\n",
       "       [0.22792623],\n",
       "       [0.2860151 ],\n",
       "       [0.37946558],\n",
       "       [0.36683125],\n",
       "       [0.39170055],\n",
       "       [0.33401104],\n",
       "       [0.35957014],\n",
       "       [0.39881644],\n",
       "       [0.33742376],\n",
       "       [0.3802643 ],\n",
       "       [0.47433198],\n",
       "       [0.78445396],\n",
       "       [0.24560703],\n",
       "       [0.32649579],\n",
       "       [0.41076096],\n",
       "       [0.42510166],\n",
       "       [0.42960354],\n",
       "       [0.39373366],\n",
       "       [0.39932472],\n",
       "       [0.44746587],\n",
       "       [0.40157566],\n",
       "       [0.41086988],\n",
       "       [0.50896747],\n",
       "       [0.87750508],\n",
       "       [0.26938716],\n",
       "       [0.39910688],\n",
       "       [0.48010456],\n",
       "       [0.4234316 ],\n",
       "       [0.4724804 ],\n",
       "       [0.42764304],\n",
       "       [0.41126924],\n",
       "       [0.50145222],\n",
       "       [0.41580744],\n",
       "       [0.43229015],\n",
       "       [0.54741505],\n",
       "       [0.89188208],\n",
       "       [0.29832268],\n",
       "       [0.37917514],\n",
       "       [0.49509875],\n",
       "       [0.44430729],\n",
       "       [0.50254139],\n",
       "       [0.43570288],\n",
       "       [0.44430729],\n",
       "       [0.5307871 ],\n",
       "       [0.40564188],\n",
       "       [0.46895876],\n",
       "       [0.56269968],\n",
       "       [0.89456869],\n",
       "       [0.29919402],\n",
       "       [0.38371333],\n",
       "       [0.47676445],\n",
       "       [0.48591345],\n",
       "       [0.53115016],\n",
       "       [0.43599332],\n",
       "       [0.46797851],\n",
       "       [0.54658002],\n",
       "       [0.42506535],\n",
       "       [0.48221028],\n",
       "       [0.60096573],\n",
       "       [0.93305257],\n",
       "       [0.32043276],\n",
       "       [0.40088586],\n",
       "       [0.50152483],\n",
       "       [0.48834592],\n",
       "       [0.55209846],\n",
       "       [0.46213331],\n",
       "       [0.49469939],\n",
       "       [0.5582341 ],\n",
       "       [0.44339965],\n",
       "       [0.4973497 ],\n",
       "       [0.5864072 ],\n",
       "       [0.95872059],\n",
       "       [0.31789137],\n",
       "       [0.43570288],\n",
       "       [0.52839094],\n",
       "       [0.48976184],\n",
       "       [0.53434505],\n",
       "       [0.48003195],\n",
       "       [0.49843886],\n",
       "       [0.56092071],\n",
       "       [0.4665989 ],\n",
       "       [0.49237584],\n",
       "       [0.60652048],\n",
       "       [1.        ],\n",
       "       [0.3167659 ],\n",
       "       [0.39235405],\n",
       "       [0.51154516],\n",
       "       [0.50515539],\n",
       "       [0.53252977],\n",
       "       [0.48591345],\n",
       "       [0.49364653],\n",
       "       [0.56629393],\n",
       "       [0.46405751],\n",
       "       [0.48536886],\n",
       "       [0.63534708],\n",
       "       [0.97233517],\n",
       "       [0.32468051],\n",
       "       [0.42285071],\n",
       "       [0.5615016 ],\n",
       "       [0.49658728]])"
      ]
     },
     "execution_count": 20,
     "metadata": {},
     "output_type": "execute_result"
    }
   ],
   "source": [
    "train_scaled"
   ]
  },
  {
   "cell_type": "code",
   "execution_count": 21,
   "metadata": {},
   "outputs": [
    {
     "data": {
      "text/plain": [
       "array([[0.61087714],\n",
       "       [0.53191258],\n",
       "       [0.54389341],\n",
       "       [0.59697212],\n",
       "       [0.4836625 ],\n",
       "       [0.52770113],\n",
       "       [0.68592071],\n",
       "       [1.00813244],\n",
       "       [0.34388615],\n",
       "       [0.40647691],\n",
       "       [0.55021057],\n",
       "       [0.53220302],\n",
       "       [0.59040081],\n",
       "       [0.51499419],\n",
       "       [0.53645077],\n",
       "       [0.61185739],\n",
       "       [0.46314987],\n",
       "       [0.51463114]])"
      ]
     },
     "execution_count": 21,
     "metadata": {},
     "output_type": "execute_result"
    }
   ],
   "source": [
    "test_scaled"
   ]
  },
  {
   "cell_type": "code",
   "execution_count": null,
   "metadata": {},
   "outputs": [],
   "source": [
    "#scaler.inverse_transform(train_scaled)"
   ]
  },
  {
   "cell_type": "markdown",
   "metadata": {},
   "source": [
    "### create x and y , we want to feed input(12 months) to predict the month number 13,that why length =12"
   ]
  },
  {
   "cell_type": "code",
   "execution_count": 22,
   "metadata": {},
   "outputs": [],
   "source": [
    "length=12"
   ]
  },
  {
   "cell_type": "code",
   "execution_count": 23,
   "metadata": {},
   "outputs": [],
   "source": [
    "from tensorflow.keras.preprocessing.sequence import TimeseriesGenerator"
   ]
  },
  {
   "cell_type": "code",
   "execution_count": 24,
   "metadata": {},
   "outputs": [],
   "source": [
    "generator=TimeseriesGenerator(train_scaled,train_scaled,length=12,batch_size=1)"
   ]
  },
  {
   "cell_type": "code",
   "execution_count": 25,
   "metadata": {},
   "outputs": [
    {
     "data": {
      "text/plain": [
       "(array([[[0.        ],\n",
       "         [0.02127505],\n",
       "         [0.05580163],\n",
       "         [0.08942056],\n",
       "         [0.09512053],\n",
       "         [0.08146965],\n",
       "         [0.07860151],\n",
       "         [0.12979233],\n",
       "         [0.09566512],\n",
       "         [0.1203892 ],\n",
       "         [0.15426227],\n",
       "         [0.41595266]]]),\n",
       " array([[0.02047633]]))"
      ]
     },
     "execution_count": 25,
     "metadata": {},
     "output_type": "execute_result"
    }
   ],
   "source": [
    "generator[0]"
   ]
  },
  {
   "cell_type": "code",
   "execution_count": 26,
   "metadata": {},
   "outputs": [],
   "source": [
    "x,y=generator[0]"
   ]
  },
  {
   "cell_type": "code",
   "execution_count": 27,
   "metadata": {},
   "outputs": [
    {
     "data": {
      "text/plain": [
       "array([[[0.        ],\n",
       "        [0.02127505],\n",
       "        [0.05580163],\n",
       "        [0.08942056],\n",
       "        [0.09512053],\n",
       "        [0.08146965],\n",
       "        [0.07860151],\n",
       "        [0.12979233],\n",
       "        [0.09566512],\n",
       "        [0.1203892 ],\n",
       "        [0.15426227],\n",
       "        [0.41595266]]])"
      ]
     },
     "execution_count": 27,
     "metadata": {},
     "output_type": "execute_result"
    }
   ],
   "source": [
    "x"
   ]
  },
  {
   "cell_type": "code",
   "execution_count": 28,
   "metadata": {},
   "outputs": [
    {
     "data": {
      "text/plain": [
       "(1, 12, 1)"
      ]
     },
     "execution_count": 28,
     "metadata": {},
     "output_type": "execute_result"
    }
   ],
   "source": [
    "x.shape"
   ]
  },
  {
   "cell_type": "code",
   "execution_count": 29,
   "metadata": {},
   "outputs": [
    {
     "data": {
      "text/plain": [
       "(1, 1)"
      ]
     },
     "execution_count": 29,
     "metadata": {},
     "output_type": "execute_result"
    }
   ],
   "source": [
    "y.shape"
   ]
  },
  {
   "cell_type": "markdown",
   "metadata": {},
   "source": [
    "### Create LSTM model"
   ]
  },
  {
   "cell_type": "code",
   "execution_count": 30,
   "metadata": {},
   "outputs": [],
   "source": [
    "from tensorflow.keras.models import Sequential\n",
    "from tensorflow.keras.layers import Dense,LSTM"
   ]
  },
  {
   "cell_type": "code",
   "execution_count": 31,
   "metadata": {},
   "outputs": [],
   "source": [
    "n_features=1\n",
    "\n",
    "model=Sequential()\n",
    "\n",
    "model.add(LSTM(50,activation=\"relu\", batch_input_shape=(None,12,1),return_sequences=True))\n",
    "model.add(LSTM((1),return_sequences=False))\n",
    "\n",
    "model.compile(optimizer=\"adam\",loss=\"mse\")"
   ]
  },
  {
   "cell_type": "code",
   "execution_count": null,
   "metadata": {},
   "outputs": [],
   "source": []
  },
  {
   "cell_type": "code",
   "execution_count": 32,
   "metadata": {},
   "outputs": [
    {
     "name": "stdout",
     "output_type": "stream",
     "text": [
      "Model: \"sequential\"\n",
      "_________________________________________________________________\n",
      " Layer (type)                Output Shape              Param #   \n",
      "=================================================================\n",
      " lstm (LSTM)                 (None, 12, 50)            10400     \n",
      "                                                                 \n",
      " lstm_1 (LSTM)               (None, 1)                 208       \n",
      "                                                                 \n",
      "=================================================================\n",
      "Total params: 10,608\n",
      "Trainable params: 10,608\n",
      "Non-trainable params: 0\n",
      "_________________________________________________________________\n"
     ]
    }
   ],
   "source": [
    "model.summary()"
   ]
  },
  {
   "cell_type": "code",
   "execution_count": 33,
   "metadata": {},
   "outputs": [],
   "source": [
    "from tensorflow.keras.callbacks import EarlyStopping"
   ]
  },
  {
   "cell_type": "code",
   "execution_count": 34,
   "metadata": {},
   "outputs": [],
   "source": [
    "early_stop=EarlyStopping(patience=2)"
   ]
  },
  {
   "cell_type": "code",
   "execution_count": 35,
   "metadata": {},
   "outputs": [
    {
     "name": "stderr",
     "output_type": "stream",
     "text": [
      "<ipython-input-35-2b564f01b11f>:1: UserWarning: `Model.fit_generator` is deprecated and will be removed in a future version. Please use `Model.fit`, which supports generators.\n",
      "  model.fit_generator(generator,epochs=20,callbacks=[early_stop])\n"
     ]
    },
    {
     "name": "stdout",
     "output_type": "stream",
     "text": [
      "Epoch 1/20\n",
      "303/304 [============================>.] - ETA: 0s - loss: 0.0208WARNING:tensorflow:Early stopping conditioned on metric `val_loss` which is not available. Available metrics are: loss\n",
      "304/304 [==============================] - 3s 6ms/step - loss: 0.0207\n",
      "Epoch 2/20\n",
      "304/304 [==============================] - ETA: 0s - loss: 0.0183WARNING:tensorflow:Early stopping conditioned on metric `val_loss` which is not available. Available metrics are: loss\n",
      "304/304 [==============================] - 2s 5ms/step - loss: 0.0183\n",
      "Epoch 3/20\n",
      "304/304 [==============================] - ETA: 0s - loss: 0.0179WARNING:tensorflow:Early stopping conditioned on metric `val_loss` which is not available. Available metrics are: loss\n",
      "304/304 [==============================] - 1s 5ms/step - loss: 0.0179\n",
      "Epoch 4/20\n",
      "303/304 [============================>.] - ETA: 0s - loss: 0.0164WARNING:tensorflow:Early stopping conditioned on metric `val_loss` which is not available. Available metrics are: loss\n",
      "304/304 [==============================] - 1s 5ms/step - loss: 0.0165\n",
      "Epoch 5/20\n",
      "301/304 [============================>.] - ETA: 0s - loss: 0.0138WARNING:tensorflow:Early stopping conditioned on metric `val_loss` which is not available. Available metrics are: loss\n",
      "304/304 [==============================] - 1s 5ms/step - loss: 0.0139\n",
      "Epoch 6/20\n",
      "300/304 [============================>.] - ETA: 0s - loss: 0.0081WARNING:tensorflow:Early stopping conditioned on metric `val_loss` which is not available. Available metrics are: loss\n",
      "304/304 [==============================] - 1s 5ms/step - loss: 0.0080\n",
      "Epoch 7/20\n",
      "303/304 [============================>.] - ETA: 0s - loss: 0.0034WARNING:tensorflow:Early stopping conditioned on metric `val_loss` which is not available. Available metrics are: loss\n",
      "304/304 [==============================] - 1s 5ms/step - loss: 0.0034\n",
      "Epoch 8/20\n",
      "296/304 [============================>.] - ETA: 0s - loss: 0.0023WARNING:tensorflow:Early stopping conditioned on metric `val_loss` which is not available. Available metrics are: loss\n",
      "304/304 [==============================] - 1s 5ms/step - loss: 0.0023\n",
      "Epoch 9/20\n",
      "301/304 [============================>.] - ETA: 0s - loss: 0.0013WARNING:tensorflow:Early stopping conditioned on metric `val_loss` which is not available. Available metrics are: loss\n",
      "304/304 [==============================] - 1s 5ms/step - loss: 0.0013\n",
      "Epoch 10/20\n",
      "302/304 [============================>.] - ETA: 0s - loss: 0.0011WARNING:tensorflow:Early stopping conditioned on metric `val_loss` which is not available. Available metrics are: loss\n",
      "304/304 [==============================] - 1s 5ms/step - loss: 0.0011\n",
      "Epoch 11/20\n",
      "302/304 [============================>.] - ETA: 0s - loss: 0.0011WARNING:tensorflow:Early stopping conditioned on metric `val_loss` which is not available. Available metrics are: loss\n",
      "304/304 [==============================] - 1s 5ms/step - loss: 0.0011\n",
      "Epoch 12/20\n",
      "302/304 [============================>.] - ETA: 0s - loss: 0.0011WARNING:tensorflow:Early stopping conditioned on metric `val_loss` which is not available. Available metrics are: loss\n",
      "304/304 [==============================] - 1s 5ms/step - loss: 0.0011\n",
      "Epoch 13/20\n",
      "294/304 [============================>.] - ETA: 0s - loss: 9.8630e-04WARNING:tensorflow:Early stopping conditioned on metric `val_loss` which is not available. Available metrics are: loss\n",
      "304/304 [==============================] - 1s 5ms/step - loss: 9.9994e-04\n",
      "Epoch 14/20\n",
      "303/304 [============================>.] - ETA: 0s - loss: 0.0010WARNING:tensorflow:Early stopping conditioned on metric `val_loss` which is not available. Available metrics are: loss\n",
      "304/304 [==============================] - 1s 5ms/step - loss: 0.0010\n",
      "Epoch 15/20\n",
      "302/304 [============================>.] - ETA: 0s - loss: 9.8788e-04WARNING:tensorflow:Early stopping conditioned on metric `val_loss` which is not available. Available metrics are: loss\n",
      "304/304 [==============================] - 1s 5ms/step - loss: 9.8635e-04\n",
      "Epoch 16/20\n",
      "295/304 [============================>.] - ETA: 0s - loss: 0.0012WARNING:tensorflow:Early stopping conditioned on metric `val_loss` which is not available. Available metrics are: loss\n",
      "304/304 [==============================] - 1s 5ms/step - loss: 0.0012\n",
      "Epoch 17/20\n",
      "301/304 [============================>.] - ETA: 0s - loss: 9.6396e-04WARNING:tensorflow:Early stopping conditioned on metric `val_loss` which is not available. Available metrics are: loss\n",
      "304/304 [==============================] - 1s 5ms/step - loss: 9.6068e-04\n",
      "Epoch 18/20\n",
      "303/304 [============================>.] - ETA: 0s - loss: 9.3657e-04WARNING:tensorflow:Early stopping conditioned on metric `val_loss` which is not available. Available metrics are: loss\n",
      "304/304 [==============================] - 1s 5ms/step - loss: 9.3527e-04\n",
      "Epoch 19/20\n",
      "302/304 [============================>.] - ETA: 0s - loss: 0.0010    WARNING:tensorflow:Early stopping conditioned on metric `val_loss` which is not available. Available metrics are: loss\n",
      "304/304 [==============================] - 1s 5ms/step - loss: 0.0010\n",
      "Epoch 20/20\n",
      "297/304 [============================>.] - ETA: 0s - loss: 9.3497e-04WARNING:tensorflow:Early stopping conditioned on metric `val_loss` which is not available. Available metrics are: loss\n",
      "304/304 [==============================] - 2s 5ms/step - loss: 9.4298e-04\n"
     ]
    },
    {
     "data": {
      "text/plain": [
       "<keras.callbacks.History at 0x7f9929b6ea60>"
      ]
     },
     "execution_count": 35,
     "metadata": {},
     "output_type": "execute_result"
    }
   ],
   "source": [
    "model.fit_generator(generator,epochs=20,callbacks=[early_stop])"
   ]
  },
  {
   "cell_type": "markdown",
   "metadata": {},
   "source": [
    "### evaluate our model"
   ]
  },
  {
   "cell_type": "code",
   "execution_count": 36,
   "metadata": {},
   "outputs": [],
   "source": [
    "test_prediction=[]\n",
    "first_batch=train_scaled[-12:]\n",
    "batch=first_batch.reshape(1,12,1)\n",
    "\n",
    "for i in range(len(test)):\n",
    "    \n",
    "    current_pred=model.predict(batch)[0]\n",
    "    test_prediction.append(current_pred)\n",
    "    batch=np.append(batch[:,1:,:],[[current_pred]],axis=1)"
   ]
  },
  {
   "cell_type": "code",
   "execution_count": 37,
   "metadata": {},
   "outputs": [
    {
     "data": {
      "text/plain": [
       "[array([0.52375096], dtype=float32),\n",
       " array([0.4884712], dtype=float32),\n",
       " array([0.4943059], dtype=float32),\n",
       " array([0.55392903], dtype=float32),\n",
       " array([0.47605714], dtype=float32),\n",
       " array([0.49320468], dtype=float32),\n",
       " array([0.65106577], dtype=float32),\n",
       " array([0.9650098], dtype=float32),\n",
       " array([0.3707572], dtype=float32),\n",
       " array([0.4487904], dtype=float32),\n",
       " array([0.5538997], dtype=float32),\n",
       " array([0.4978387], dtype=float32),\n",
       " array([0.51614267], dtype=float32),\n",
       " array([0.49036273], dtype=float32),\n",
       " array([0.494652], dtype=float32),\n",
       " array([0.5398872], dtype=float32),\n",
       " array([0.48357856], dtype=float32),\n",
       " array([0.49761945], dtype=float32)]"
      ]
     },
     "execution_count": 37,
     "metadata": {},
     "output_type": "execute_result"
    }
   ],
   "source": [
    "test_prediction"
   ]
  },
  {
   "cell_type": "code",
   "execution_count": 38,
   "metadata": {},
   "outputs": [],
   "source": [
    "true_pred=scaler.inverse_transform(test_prediction)"
   ]
  },
  {
   "cell_type": "code",
   "execution_count": 39,
   "metadata": {},
   "outputs": [
    {
     "data": {
      "text/plain": [
       "array([[21364.19646502],\n",
       "       [20392.45100832],\n",
       "       [20553.16194868],\n",
       "       [22195.42122698],\n",
       "       [20050.51791978],\n",
       "       [20522.82979035],\n",
       "       [24870.95548105],\n",
       "       [33518.23016644],\n",
       "       [17150.13610673],\n",
       "       [19299.48281121],\n",
       "       [22194.61348581],\n",
       "       [20650.46931195],\n",
       "       [21154.63360167],\n",
       "       [20444.55113435],\n",
       "       [20562.69477201],\n",
       "       [21808.65275764],\n",
       "       [20257.68793201],\n",
       "       [20644.43013334]])"
      ]
     },
     "execution_count": 39,
     "metadata": {},
     "output_type": "execute_result"
    }
   ],
   "source": [
    "true_pred"
   ]
  },
  {
   "cell_type": "code",
   "execution_count": 40,
   "metadata": {},
   "outputs": [
    {
     "name": "stderr",
     "output_type": "stream",
     "text": [
      "/Users/vineet/opt/anaconda3/lib/python3.8/site-packages/pandas/core/frame.py:3607: SettingWithCopyWarning: \n",
      "A value is trying to be set on a copy of a slice from a DataFrame.\n",
      "Try using .loc[row_indexer,col_indexer] = value instead\n",
      "\n",
      "See the caveats in the documentation: https://pandas.pydata.org/pandas-docs/stable/user_guide/indexing.html#returning-a-view-versus-a-copy\n",
      "  self._set_item(key, value)\n"
     ]
    }
   ],
   "source": [
    "test[\"pred\"]=true_pred"
   ]
  },
  {
   "cell_type": "code",
   "execution_count": 41,
   "metadata": {},
   "outputs": [
    {
     "data": {
      "text/html": [
       "<div>\n",
       "<style scoped>\n",
       "    .dataframe tbody tr th:only-of-type {\n",
       "        vertical-align: middle;\n",
       "    }\n",
       "\n",
       "    .dataframe tbody tr th {\n",
       "        vertical-align: top;\n",
       "    }\n",
       "\n",
       "    .dataframe thead th {\n",
       "        text-align: right;\n",
       "    }\n",
       "</style>\n",
       "<table border=\"1\" class=\"dataframe\">\n",
       "  <thead>\n",
       "    <tr style=\"text-align: right;\">\n",
       "      <th></th>\n",
       "      <th>Sales</th>\n",
       "      <th>pred</th>\n",
       "    </tr>\n",
       "    <tr>\n",
       "      <th>DATE</th>\n",
       "      <th></th>\n",
       "      <th></th>\n",
       "    </tr>\n",
       "  </thead>\n",
       "  <tbody>\n",
       "    <tr>\n",
       "      <th>2018-05-01</th>\n",
       "      <td>23764</td>\n",
       "      <td>21364.196465</td>\n",
       "    </tr>\n",
       "    <tr>\n",
       "      <th>2018-06-01</th>\n",
       "      <td>21589</td>\n",
       "      <td>20392.451008</td>\n",
       "    </tr>\n",
       "    <tr>\n",
       "      <th>2018-07-01</th>\n",
       "      <td>21919</td>\n",
       "      <td>20553.161949</td>\n",
       "    </tr>\n",
       "    <tr>\n",
       "      <th>2018-08-01</th>\n",
       "      <td>23381</td>\n",
       "      <td>22195.421227</td>\n",
       "    </tr>\n",
       "    <tr>\n",
       "      <th>2018-09-01</th>\n",
       "      <td>20260</td>\n",
       "      <td>20050.517920</td>\n",
       "    </tr>\n",
       "    <tr>\n",
       "      <th>2018-10-01</th>\n",
       "      <td>21473</td>\n",
       "      <td>20522.829790</td>\n",
       "    </tr>\n",
       "    <tr>\n",
       "      <th>2018-11-01</th>\n",
       "      <td>25831</td>\n",
       "      <td>24870.955481</td>\n",
       "    </tr>\n",
       "    <tr>\n",
       "      <th>2018-12-01</th>\n",
       "      <td>34706</td>\n",
       "      <td>33518.230166</td>\n",
       "    </tr>\n",
       "    <tr>\n",
       "      <th>2019-01-01</th>\n",
       "      <td>16410</td>\n",
       "      <td>17150.136107</td>\n",
       "    </tr>\n",
       "    <tr>\n",
       "      <th>2019-02-01</th>\n",
       "      <td>18134</td>\n",
       "      <td>19299.482811</td>\n",
       "    </tr>\n",
       "    <tr>\n",
       "      <th>2019-03-01</th>\n",
       "      <td>22093</td>\n",
       "      <td>22194.613486</td>\n",
       "    </tr>\n",
       "    <tr>\n",
       "      <th>2019-04-01</th>\n",
       "      <td>21597</td>\n",
       "      <td>20650.469312</td>\n",
       "    </tr>\n",
       "    <tr>\n",
       "      <th>2019-05-01</th>\n",
       "      <td>23200</td>\n",
       "      <td>21154.633602</td>\n",
       "    </tr>\n",
       "    <tr>\n",
       "      <th>2019-06-01</th>\n",
       "      <td>21123</td>\n",
       "      <td>20444.551134</td>\n",
       "    </tr>\n",
       "    <tr>\n",
       "      <th>2019-07-01</th>\n",
       "      <td>21714</td>\n",
       "      <td>20562.694772</td>\n",
       "    </tr>\n",
       "    <tr>\n",
       "      <th>2019-08-01</th>\n",
       "      <td>23791</td>\n",
       "      <td>21808.652758</td>\n",
       "    </tr>\n",
       "    <tr>\n",
       "      <th>2019-09-01</th>\n",
       "      <td>19695</td>\n",
       "      <td>20257.687932</td>\n",
       "    </tr>\n",
       "    <tr>\n",
       "      <th>2019-10-01</th>\n",
       "      <td>21113</td>\n",
       "      <td>20644.430133</td>\n",
       "    </tr>\n",
       "  </tbody>\n",
       "</table>\n",
       "</div>"
      ],
      "text/plain": [
       "            Sales          pred\n",
       "DATE                           \n",
       "2018-05-01  23764  21364.196465\n",
       "2018-06-01  21589  20392.451008\n",
       "2018-07-01  21919  20553.161949\n",
       "2018-08-01  23381  22195.421227\n",
       "2018-09-01  20260  20050.517920\n",
       "2018-10-01  21473  20522.829790\n",
       "2018-11-01  25831  24870.955481\n",
       "2018-12-01  34706  33518.230166\n",
       "2019-01-01  16410  17150.136107\n",
       "2019-02-01  18134  19299.482811\n",
       "2019-03-01  22093  22194.613486\n",
       "2019-04-01  21597  20650.469312\n",
       "2019-05-01  23200  21154.633602\n",
       "2019-06-01  21123  20444.551134\n",
       "2019-07-01  21714  20562.694772\n",
       "2019-08-01  23791  21808.652758\n",
       "2019-09-01  19695  20257.687932\n",
       "2019-10-01  21113  20644.430133"
      ]
     },
     "execution_count": 41,
     "metadata": {},
     "output_type": "execute_result"
    }
   ],
   "source": [
    "test"
   ]
  },
  {
   "cell_type": "code",
   "execution_count": 42,
   "metadata": {},
   "outputs": [
    {
     "data": {
      "text/plain": [
       "<AxesSubplot:xlabel='DATE'>"
      ]
     },
     "execution_count": 42,
     "metadata": {},
     "output_type": "execute_result"
    },
    {
     "data": {
      "image/png": "[encoded data removed]",
      "text/plain": [
       "<Figure size 432x288 with 1 Axes>"
      ]
     },
     "metadata": {
      "needs_background": "light"
     },
     "output_type": "display_data"
    }
   ],
   "source": [
    "test.plot()"
   ]
  },
  {
   "cell_type": "markdown",
   "metadata": {},
   "source": [
    "### create another LSTM with full data and predict the future forecast"
   ]
  },
  {
   "cell_type": "code",
   "execution_count": 43,
   "metadata": {},
   "outputs": [],
   "source": [
    "from sklearn.preprocessing import MinMaxScaler\n",
    "scaler=MinMaxScaler()\n",
    "data_scaled=scaler.fit_transform(data)"
   ]
  },
  {
   "cell_type": "code",
   "execution_count": 44,
   "metadata": {},
   "outputs": [
    {
     "data": {
      "text/plain": [
       "array([[0.        ],\n",
       "       [0.02110343],\n",
       "       [0.05535148],\n",
       "       [0.08869922],\n",
       "       [0.09435321],\n",
       "       [0.08081245],\n",
       "       [0.07796744],\n",
       "       [0.12874532],\n",
       "       [0.0948934 ],\n",
       "       [0.11941804],\n",
       "       [0.15301786],\n",
       "       [0.41259723],\n",
       "       [0.02031115],\n",
       "       [0.02110343],\n",
       "       [0.06583117],\n",
       "       [0.10548113],\n",
       "       [0.11253961],\n",
       "       [0.09712619],\n",
       "       [0.1028522 ],\n",
       "       [0.13288678],\n",
       "       [0.11073898],\n",
       "       [0.1227312 ],\n",
       "       [0.17365313],\n",
       "       [0.42901901],\n",
       "       [0.01231634],\n",
       "       [0.03471622],\n",
       "       [0.10742581],\n",
       "       [0.10555315],\n",
       "       [0.11059493],\n",
       "       [0.10641746],\n",
       "       [0.10072746],\n",
       "       [0.15193748],\n",
       "       [0.11808557],\n",
       "       [0.13656007],\n",
       "       [0.19504466],\n",
       "       [0.47097378],\n",
       "       [0.02088735],\n",
       "       [0.03684097],\n",
       "       [0.10360847],\n",
       "       [0.11632094],\n",
       "       [0.13259867],\n",
       "       [0.12111063],\n",
       "       [0.10249208],\n",
       "       [0.15579084],\n",
       "       [0.13583982],\n",
       "       [0.12608038],\n",
       "       [0.20934169],\n",
       "       [0.47046961],\n",
       "       [0.02686546],\n",
       "       [0.07393402],\n",
       "       [0.12283924],\n",
       "       [0.13079804],\n",
       "       [0.16086863],\n",
       "       [0.13022184],\n",
       "       [0.11754538],\n",
       "       [0.18712187],\n",
       "       [0.13270671],\n",
       "       [0.15528666],\n",
       "       [0.21380726],\n",
       "       [0.46838087],\n",
       "       [0.04523192],\n",
       "       [0.06831605],\n",
       "       [0.14052146],\n",
       "       [0.11498848],\n",
       "       [0.16446989],\n",
       "       [0.13382311],\n",
       "       [0.13670412],\n",
       "       [0.19889801],\n",
       "       [0.14419476],\n",
       "       [0.16915154],\n",
       "       [0.22709594],\n",
       "       [0.51065975],\n",
       "       [0.0670556 ],\n",
       "       [0.09222846],\n",
       "       [0.14134976],\n",
       "       [0.17599395],\n",
       "       [0.1909032 ],\n",
       "       [0.16252521],\n",
       "       [0.16907952],\n",
       "       [0.21726448],\n",
       "       [0.1539902 ],\n",
       "       [0.19612504],\n",
       "       [0.24906367],\n",
       "       [0.55747623],\n",
       "       [0.08279314],\n",
       "       [0.11642898],\n",
       "       [0.1852132 ],\n",
       "       [0.19619706],\n",
       "       [0.22432296],\n",
       "       [0.19237972],\n",
       "       [0.19889801],\n",
       "       [0.24474215],\n",
       "       [0.19515269],\n",
       "       [0.21643619],\n",
       "       [0.27747767],\n",
       "       [0.62474791],\n",
       "       [0.09035581],\n",
       "       [0.15240565],\n",
       "       [0.21258283],\n",
       "       [0.22277442],\n",
       "       [0.24477816],\n",
       "       [0.21661625],\n",
       "       [0.20030251],\n",
       "       [0.27628925],\n",
       "       [0.2318136 ],\n",
       "       [0.23159752],\n",
       "       [0.31464275],\n",
       "       [0.64595938],\n",
       "       [0.11243158],\n",
       "       [0.1624892 ],\n",
       "       [0.22072169],\n",
       "       [0.23134543],\n",
       "       [0.24665082],\n",
       "       [0.21596802],\n",
       "       [0.20390377],\n",
       "       [0.28377989],\n",
       "       [0.18604149],\n",
       "       [0.22615961],\n",
       "       [0.30301066],\n",
       "       [0.63367906],\n",
       "       [0.12265918],\n",
       "       [0.17257275],\n",
       "       [0.25349323],\n",
       "       [0.22533132],\n",
       "       [0.25972342],\n",
       "       [0.22587151],\n",
       "       [0.21373523],\n",
       "       [0.29440363],\n",
       "       [0.19832181],\n",
       "       [0.2545376 ],\n",
       "       [0.32314175],\n",
       "       [0.6630654 ],\n",
       "       [0.13922501],\n",
       "       [0.17012388],\n",
       "       [0.23458657],\n",
       "       [0.2431936 ],\n",
       "       [0.28061077],\n",
       "       [0.23617113],\n",
       "       [0.24906367],\n",
       "       [0.30913281],\n",
       "       [0.23872803],\n",
       "       [0.27596514],\n",
       "       [0.34633391],\n",
       "       [0.71384327],\n",
       "       [0.17473351],\n",
       "       [0.23069721],\n",
       "       [0.28169116],\n",
       "       [0.29242293],\n",
       "       [0.303983  ],\n",
       "       [0.26285653],\n",
       "       [0.27834198],\n",
       "       [0.31150965],\n",
       "       [0.26238836],\n",
       "       [0.31086142],\n",
       "       [0.37064247],\n",
       "       [0.77312014],\n",
       "       [0.18395275],\n",
       "       [0.24992797],\n",
       "       [0.31651541],\n",
       "       [0.31583117],\n",
       "       [0.32595073],\n",
       "       [0.31046528],\n",
       "       [0.29818496],\n",
       "       [0.35144771],\n",
       "       [0.28889369],\n",
       "       [0.34467733],\n",
       "       [0.41284932],\n",
       "       [0.84046384],\n",
       "       [0.21445549],\n",
       "       [0.27139153],\n",
       "       [0.34024777],\n",
       "       [0.35688562],\n",
       "       [0.36606886],\n",
       "       [0.34453328],\n",
       "       [0.33625036],\n",
       "       [0.3923221 ],\n",
       "       [0.3539686 ],\n",
       "       [0.37147076],\n",
       "       [0.44846586],\n",
       "       [0.88317488],\n",
       "       [0.2516926 ],\n",
       "       [0.29310717],\n",
       "       [0.3999928 ],\n",
       "       [0.36581677],\n",
       "       [0.41544224],\n",
       "       [0.37276721],\n",
       "       [0.35814607],\n",
       "       [0.428983  ],\n",
       "       [0.35389657],\n",
       "       [0.38447133],\n",
       "       [0.49020455],\n",
       "       [0.85339239],\n",
       "       [0.26055171],\n",
       "       [0.3218813 ],\n",
       "       [0.39008931],\n",
       "       [0.36606886],\n",
       "       [0.43740997],\n",
       "       [0.36261164],\n",
       "       [0.37564823],\n",
       "       [0.43586142],\n",
       "       [0.32209738],\n",
       "       [0.35501296],\n",
       "       [0.42559781],\n",
       "       [0.71261884],\n",
       "       [0.23224575],\n",
       "       [0.27895419],\n",
       "       [0.31060933],\n",
       "       [0.33848315],\n",
       "       [0.3718669 ],\n",
       "       [0.3059637 ],\n",
       "       [0.32659896],\n",
       "       [0.38598387],\n",
       "       [0.31302218],\n",
       "       [0.36426822],\n",
       "       [0.41032844],\n",
       "       [0.72709594],\n",
       "       [0.22608758],\n",
       "       [0.28370787],\n",
       "       [0.37640449],\n",
       "       [0.36387208],\n",
       "       [0.38854077],\n",
       "       [0.33131662],\n",
       "       [0.35666955],\n",
       "       [0.39559925],\n",
       "       [0.33470182],\n",
       "       [0.37719677],\n",
       "       [0.47050562],\n",
       "       [0.7781259 ],\n",
       "       [0.24362576],\n",
       "       [0.323862  ],\n",
       "       [0.40744742],\n",
       "       [0.42167243],\n",
       "       [0.426138  ],\n",
       "       [0.39055748],\n",
       "       [0.39610343],\n",
       "       [0.44385624],\n",
       "       [0.39833621],\n",
       "       [0.40755546],\n",
       "       [0.50486171],\n",
       "       [0.87042639],\n",
       "       [0.26721406],\n",
       "       [0.39588735],\n",
       "       [0.47623163],\n",
       "       [0.42001585],\n",
       "       [0.46866897],\n",
       "       [0.42419332],\n",
       "       [0.4079516 ],\n",
       "       [0.49740709],\n",
       "       [0.41245318],\n",
       "       [0.42880294],\n",
       "       [0.54299914],\n",
       "       [0.88468741],\n",
       "       [0.29591616],\n",
       "       [0.37611639],\n",
       "       [0.49110487],\n",
       "       [0.44072313],\n",
       "       [0.49848747],\n",
       "       [0.43218813],\n",
       "       [0.44072313],\n",
       "       [0.52650533],\n",
       "       [0.40236963],\n",
       "       [0.46517574],\n",
       "       [0.55816047],\n",
       "       [0.88735235],\n",
       "       [0.29678047],\n",
       "       [0.38061798],\n",
       "       [0.47291847],\n",
       "       [0.48199366],\n",
       "       [0.52686546],\n",
       "       [0.43247623],\n",
       "       [0.4642034 ],\n",
       "       [0.54217084],\n",
       "       [0.42163642],\n",
       "       [0.47832037],\n",
       "       [0.59611783],\n",
       "       [0.92552579],\n",
       "       [0.31784788],\n",
       "       [0.39765197],\n",
       "       [0.49747911],\n",
       "       [0.48440651],\n",
       "       [0.54764477],\n",
       "       [0.45840536],\n",
       "       [0.49070873],\n",
       "       [0.55373091],\n",
       "       [0.43982282],\n",
       "       [0.49333765],\n",
       "       [0.58167675],\n",
       "       [0.95098675],\n",
       "       [0.315327  ],\n",
       "       [0.43218813],\n",
       "       [0.52412849],\n",
       "       [0.48581101],\n",
       "       [0.53003457],\n",
       "       [0.47615961],\n",
       "       [0.49441804],\n",
       "       [0.55639585],\n",
       "       [0.46283492],\n",
       "       [0.48840392],\n",
       "       [0.60162777],\n",
       "       [0.99193316],\n",
       "       [0.3142106 ],\n",
       "       [0.38918899],\n",
       "       [0.50741861],\n",
       "       [0.50108038],\n",
       "       [0.52823394],\n",
       "       [0.48199366],\n",
       "       [0.48966436],\n",
       "       [0.56172573],\n",
       "       [0.46031403],\n",
       "       [0.48145347],\n",
       "       [0.63022184],\n",
       "       [0.9644915 ],\n",
       "       [0.32206137],\n",
       "       [0.41943964],\n",
       "       [0.55697205],\n",
       "       [0.49258139],\n",
       "       [0.60594929],\n",
       "       [0.52762172],\n",
       "       [0.53950591],\n",
       "       [0.59215644],\n",
       "       [0.47976088],\n",
       "       [0.52344425],\n",
       "       [0.6803875 ],\n",
       "       [1.        ],\n",
       "       [0.34111207],\n",
       "       [0.40319793],\n",
       "       [0.54577211],\n",
       "       [0.52790982],\n",
       "       [0.58563814],\n",
       "       [0.51083982],\n",
       "       [0.53212331],\n",
       "       [0.60692164],\n",
       "       [0.45941371],\n",
       "       [0.51047969]])"
      ]
     },
     "execution_count": 44,
     "metadata": {},
     "output_type": "execute_result"
    }
   ],
   "source": [
    "data_scaled"
   ]
  },
  {
   "cell_type": "code",
   "execution_count": 45,
   "metadata": {},
   "outputs": [],
   "source": [
    "data_generator=TimeseriesGenerator(data_scaled,data_scaled,length=12,batch_size=1)"
   ]
  },
  {
   "cell_type": "code",
   "execution_count": 46,
   "metadata": {},
   "outputs": [
    {
     "name": "stderr",
     "output_type": "stream",
     "text": [
      "<ipython-input-46-01291679617f>:9: UserWarning: `Model.fit_generator` is deprecated and will be removed in a future version. Please use `Model.fit`, which supports generators.\n",
      "  model2.fit_generator(data_generator,epochs=8)\n"
     ]
    },
    {
     "name": "stdout",
     "output_type": "stream",
     "text": [
      "Epoch 1/8\n",
      "322/322 [==============================] - 2s 3ms/step - loss: 0.0266\n",
      "Epoch 2/8\n",
      "322/322 [==============================] - 1s 3ms/step - loss: 0.0188\n",
      "Epoch 3/8\n",
      "322/322 [==============================] - 1s 3ms/step - loss: 0.0183\n",
      "Epoch 4/8\n",
      "322/322 [==============================] - 1s 3ms/step - loss: 0.0164\n",
      "Epoch 5/8\n",
      "322/322 [==============================] - 1s 3ms/step - loss: 0.0123\n",
      "Epoch 6/8\n",
      "322/322 [==============================] - 1s 3ms/step - loss: 0.0074\n",
      "Epoch 7/8\n",
      "322/322 [==============================] - 1s 3ms/step - loss: 0.0031\n",
      "Epoch 8/8\n",
      "322/322 [==============================] - 1s 3ms/step - loss: 0.0033\n"
     ]
    },
    {
     "data": {
      "text/plain": [
       "<keras.callbacks.History at 0x7f992c0140a0>"
      ]
     },
     "execution_count": 46,
     "metadata": {},
     "output_type": "execute_result"
    }
   ],
   "source": [
    "n_features=1\n",
    "\n",
    "model2=Sequential()\n",
    "\n",
    "model2.add(LSTM(50,activation=\"relu\", batch_input_shape=(None,12,1)))\n",
    "model2.add(Dense(1))\n",
    "\n",
    "model2.compile(optimizer=\"adam\",loss=\"mse\")\n",
    "model2.fit_generator(data_generator,epochs=8)"
   ]
  },
  {
   "cell_type": "code",
   "execution_count": 47,
   "metadata": {},
   "outputs": [
    {
     "name": "stdout",
     "output_type": "stream",
     "text": [
      "Model: \"sequential\"\n",
      "_________________________________________________________________\n",
      " Layer (type)                Output Shape              Param #   \n",
      "=================================================================\n",
      " lstm (LSTM)                 (None, 12, 50)            10400     \n",
      "                                                                 \n",
      " lstm_1 (LSTM)               (None, 1)                 208       \n",
      "                                                                 \n",
      "=================================================================\n",
      "Total params: 10,608\n",
      "Trainable params: 10,608\n",
      "Non-trainable params: 0\n",
      "_________________________________________________________________\n"
     ]
    }
   ],
   "source": [
    "model.summary()"
   ]
  },
  {
   "cell_type": "code",
   "execution_count": 48,
   "metadata": {},
   "outputs": [],
   "source": [
    "d=data_scaled[-12:].reshape(1,12,1)"
   ]
  },
  {
   "cell_type": "code",
   "execution_count": 49,
   "metadata": {},
   "outputs": [
    {
     "data": {
      "text/plain": [
       "array([[0.7004357]], dtype=float32)"
      ]
     },
     "execution_count": 49,
     "metadata": {},
     "output_type": "execute_result"
    }
   ],
   "source": [
    "model2.predict(d)"
   ]
  },
  {
   "cell_type": "code",
   "execution_count": 50,
   "metadata": {},
   "outputs": [],
   "source": [
    "test_prediction2=[]\n",
    "first_batch2=data_scaled[-12:]\n",
    "batch2=first_batch2.reshape(1,12,1)\n",
    "\n",
    "for i in range(12):\n",
    "    \n",
    "    current_pred2=model2.predict(batch2)[0]\n",
    "    test_prediction2.append(current_pred2)\n",
    "    batch2=np.append(batch2[:,1:,:],[[current_pred2]],axis=1)"
   ]
  },
  {
   "cell_type": "code",
   "execution_count": 51,
   "metadata": {},
   "outputs": [
    {
     "data": {
      "text/plain": [
       "array([[0.7004357]], dtype=float32)"
      ]
     },
     "execution_count": 51,
     "metadata": {},
     "output_type": "execute_result"
    }
   ],
   "source": [
    "model2.predict(data_scaled[-12:].reshape(1,12,1))"
   ]
  },
  {
   "cell_type": "code",
   "execution_count": 52,
   "metadata": {},
   "outputs": [],
   "source": [
    "true_pred2=scaler.inverse_transform(test_prediction2)"
   ]
  },
  {
   "cell_type": "code",
   "execution_count": 53,
   "metadata": {},
   "outputs": [
    {
     "data": {
      "text/plain": [
       "array([[26387.69846296],\n",
       "       [37140.01584339],\n",
       "       [16054.71187568],\n",
       "       [18184.21464634],\n",
       "       [21545.032866  ],\n",
       "       [21439.53502369],\n",
       "       [22945.23738289],\n",
       "       [21269.20849991],\n",
       "       [21915.34037209],\n",
       "       [23777.39441919],\n",
       "       [20392.70632172],\n",
       "       [21862.19670916]])"
      ]
     },
     "execution_count": 53,
     "metadata": {},
     "output_type": "execute_result"
    }
   ],
   "source": [
    "true_pred2"
   ]
  },
  {
   "cell_type": "code",
   "execution_count": 54,
   "metadata": {},
   "outputs": [],
   "source": [
    "index=pd.date_range(start=\"2019-11-01\",periods=12,freq=\"MS\")"
   ]
  },
  {
   "cell_type": "code",
   "execution_count": 55,
   "metadata": {},
   "outputs": [
    {
     "data": {
      "text/plain": [
       "DatetimeIndex(['2019-11-01', '2019-12-01', '2020-01-01', '2020-02-01',\n",
       "               '2020-03-01', '2020-04-01', '2020-05-01', '2020-06-01',\n",
       "               '2020-07-01', '2020-08-01', '2020-09-01', '2020-10-01'],\n",
       "              dtype='datetime64[ns]', freq='MS')"
      ]
     },
     "execution_count": 55,
     "metadata": {},
     "output_type": "execute_result"
    }
   ],
   "source": [
    "index"
   ]
  },
  {
   "cell_type": "code",
   "execution_count": 56,
   "metadata": {},
   "outputs": [],
   "source": [
    "forecast=pd.DataFrame(true_pred2,index=index,columns=[\"Sales_Forecast\"])"
   ]
  },
  {
   "cell_type": "code",
   "execution_count": 57,
   "metadata": {},
   "outputs": [
    {
     "data": {
      "text/plain": [
       "<AxesSubplot:xlabel='DATE'>"
      ]
     },
     "execution_count": 57,
     "metadata": {},
     "output_type": "execute_result"
    },
    {
     "data": {
      "image/png": "[encoded data removed]",
      "text/plain": [
       "<Figure size 432x288 with 1 Axes>"
      ]
     },
     "metadata": {
      "needs_background": "light"
     },
     "output_type": "display_data"
    },
    {
     "data": {
      "image/png": "[encoded data removed]",
      "text/plain": [
       "<Figure size 432x288 with 1 Axes>"
      ]
     },
     "metadata": {
      "needs_background": "light"
     },
     "output_type": "display_data"
    }
   ],
   "source": [
    "forecast.plot()\n",
    "data.plot()"
   ]
  },
  {
   "cell_type": "code",
   "execution_count": 58,
   "metadata": {},
   "outputs": [
    {
     "data": {
      "text/plain": [
       "<AxesSubplot:xlabel='DATE'>"
      ]
     },
     "execution_count": 58,
     "metadata": {},
     "output_type": "execute_result"
    },
    {
     "data": {
      "image/png": "[encoded data removed]",
      "text/plain": [
       "<Figure size 432x288 with 1 Axes>"
      ]
     },
     "metadata": {
      "needs_background": "light"
     },
     "output_type": "display_data"
    }
   ],
   "source": [
    "forecast.plot(ax=data.plot())"
   ]
  },
  {
   "cell_type": "code",
   "execution_count": 59,
   "metadata": {},
   "outputs": [
    {
     "data": {
      "text/plain": [
       "(584.0, 600.0)"
      ]
     },
     "execution_count": 59,
     "metadata": {},
     "output_type": "execute_result"
    },
    {
     "data": {
      "image/png": "[encoded data removed]",
      "text/plain": [
       "<Figure size 432x288 with 1 Axes>"
      ]
     },
     "metadata": {
      "needs_background": "light"
     },
     "output_type": "display_data"
    }
   ],
   "source": [
    "forecast.plot(ax=data.plot())\n",
    "plt.xlim(\"2018-09-01\",\"2020-01-01\")"
   ]
  },
  {
   "cell_type": "code",
   "execution_count": null,
   "metadata": {},
   "outputs": [],
   "source": []
  }
 ],
 "metadata": {
  "kernelspec": {
   "display_name": "Python 3",
   "language": "python",
   "name": "python3"
  },
  "language_info": {
   "codemirror_mode": {
    "name": "ipython",
    "version": 3
   },
   "file_extension": ".py",
   "mimetype": "text/x-python",
   "name": "python",
   "nbconvert_exporter": "python",
   "pygments_lexer": "ipython3",
   "version": "3.8.5"
  }
 },
 "nbformat": 4,
 "nbformat_minor": 4
}
