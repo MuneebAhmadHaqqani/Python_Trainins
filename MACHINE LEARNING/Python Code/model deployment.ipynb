{
 "cells": [
  {
   "cell_type": "markdown",
   "metadata": {},
   "source": [
    "### loading our model"
   ]
  },
  {
   "cell_type": "code",
   "execution_count": 1,
   "metadata": {},
   "outputs": [],
   "source": [
    "import pickle"
   ]
  },
  {
   "cell_type": "code",
   "execution_count": 3,
   "metadata": {},
   "outputs": [],
   "source": [
    "model=pickle.load(open(\"t.sav\",\"rb\"))"
   ]
  },
  {
   "cell_type": "code",
   "execution_count": 12,
   "metadata": {},
   "outputs": [
    {
     "data": {
      "text/plain": [
       "array([0], dtype=int64)"
      ]
     },
     "execution_count": 12,
     "metadata": {},
     "output_type": "execute_result"
    }
   ],
   "source": [
    "model.predict([[0,0,0,0,0,0.82,0,0,0,0.10]])"
   ]
  },
  {
   "cell_type": "markdown",
   "metadata": {},
   "source": [
    "### loading our scaler"
   ]
  },
  {
   "cell_type": "code",
   "execution_count": 14,
   "metadata": {},
   "outputs": [],
   "source": [
    "import joblib"
   ]
  },
  {
   "cell_type": "code",
   "execution_count": 15,
   "metadata": {},
   "outputs": [],
   "source": [
    "scaler=joblib.load(\"scaler.pkl\")"
   ]
  },
  {
   "cell_type": "markdown",
   "metadata": {},
   "source": [
    "### user input as json"
   ]
  },
  {
   "cell_type": "code",
   "execution_count": 19,
   "metadata": {},
   "outputs": [],
   "source": [
    "json={\n",
    "    \"CreditScore\":699,\n",
    "    \"Geography\":0,\n",
    "    \"Gender\":0,\n",
    "    \"Age\":39,\n",
    "    \"Tenure\":1,\n",
    "    \"Balance\":0,\n",
    "    \"NumOfProducts\":2,\n",
    "    \"HasCrCard\":0,\n",
    "    \"IsActiveMember\":0,\n",
    "    \"EstimatedSalary\":93826\n",
    "    \n",
    "}"
   ]
  },
  {
   "cell_type": "markdown",
   "metadata": {},
   "source": [
    "### creating model function "
   ]
  },
  {
   "cell_type": "code",
   "execution_count": 22,
   "metadata": {},
   "outputs": [],
   "source": [
    "def pred (model,scaler,json):\n",
    "    \n",
    "    CreditScore = json[\"CreditScore\"]\n",
    "    Geography= json[\"Geography\"]\n",
    "    Gender= json[\"Gender\"]\n",
    "    Age= json[\"Age\"]\n",
    "    Tenure= json[\"Tenure\"]\n",
    "    Balance= json[\"Balance\"]\n",
    "    NumOfProducts= json[\"NumOfProducts\"]\n",
    "    HasCrCard= json[\"HasCrCard\"]\n",
    "    IsActiveMember= json[\"IsActiveMember\"]\n",
    "    EstimatedSalary= json[\"EstimatedSalary\"]\n",
    "    \n",
    "    arr=[[CreditScore,Geography,Gender,Age,Tenure,Balance,NumOfProducts,HasCrCard,IsActiveMember,EstimatedSalary]]\n",
    "    arr_sc=scaler.fit_transform (arr)\n",
    "    \n",
    "    result=model.predict(arr_sc)[0]\n",
    "    \n",
    "    return result\n",
    "    \n",
    "    "
   ]
  },
  {
   "cell_type": "markdown",
   "metadata": {},
   "source": [
    "### using the model function"
   ]
  },
  {
   "cell_type": "code",
   "execution_count": 23,
   "metadata": {},
   "outputs": [
    {
     "data": {
      "text/plain": [
       "{'CreditScore': 699,\n",
       " 'Geography': 0,\n",
       " 'Gender': 0,\n",
       " 'Age': 39,\n",
       " 'Tenure': 1,\n",
       " 'Balance': 0,\n",
       " 'NumOfProducts': 2,\n",
       " 'HasCrCard': 0,\n",
       " 'IsActiveMember': 0,\n",
       " 'EstimatedSalary': 93826}"
      ]
     },
     "execution_count": 23,
     "metadata": {},
     "output_type": "execute_result"
    }
   ],
   "source": [
    "json"
   ]
  },
  {
   "cell_type": "code",
   "execution_count": 24,
   "metadata": {},
   "outputs": [
    {
     "data": {
      "text/plain": [
       "0"
      ]
     },
     "execution_count": 24,
     "metadata": {},
     "output_type": "execute_result"
    }
   ],
   "source": [
    "pred(model,scaler,json)"
   ]
  },
  {
   "cell_type": "code",
   "execution_count": null,
   "metadata": {},
   "outputs": [],
   "source": []
  }
 ],
 "metadata": {
  "kernelspec": {
   "display_name": "Python 3",
   "language": "python",
   "name": "python3"
  },
  "language_info": {
   "codemirror_mode": {
    "name": "ipython",
    "version": 3
   },
   "file_extension": ".py",
   "mimetype": "text/x-python",
   "name": "python",
   "nbconvert_exporter": "python",
   "pygments_lexer": "ipython3",
   "version": "3.6.5"
  }
 },
 "nbformat": 4,
 "nbformat_minor": 2
}
