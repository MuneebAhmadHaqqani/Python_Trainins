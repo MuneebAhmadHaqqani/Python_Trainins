{
 "cells": [
  {
   "cell_type": "markdown",
   "metadata": {},
   "source": [
    "# Advanced Python Day 1"
   ]
  },
  {
   "cell_type": "markdown",
   "metadata": {},
   "source": [
    "## File Handling"
   ]
  },
  {
   "cell_type": "markdown",
   "metadata": {},
   "source": [
    "### Read a text file"
   ]
  },
  {
   "cell_type": "code",
   "execution_count": null,
   "metadata": {},
   "outputs": [],
   "source": [
    "file=open(\"demo.txt\",\"r\")"
   ]
  },
  {
   "cell_type": "code",
   "execution_count": null,
   "metadata": {},
   "outputs": [],
   "source": [
    "file2=open(\"C:\\\\Users\\\\etisalat\\\\Advanced Python, July2021\\\\demo.txt\",\"r\")"
   ]
  },
  {
   "cell_type": "code",
   "execution_count": null,
   "metadata": {},
   "outputs": [],
   "source": [
    "file3=open(\"C:/Users/etisalat/Advanced Python, July2021/demo.txt\",\"r\")"
   ]
  },
  {
   "cell_type": "code",
   "execution_count": null,
   "metadata": {},
   "outputs": [],
   "source": [
    "file4=open(r\"C:\\Users\\etisalat\\Advanced Python, July2021\\demo.txt\",\"r\")"
   ]
  },
  {
   "cell_type": "code",
   "execution_count": null,
   "metadata": {},
   "outputs": [],
   "source": [
    "print(file4.read())"
   ]
  },
  {
   "cell_type": "code",
   "execution_count": null,
   "metadata": {},
   "outputs": [],
   "source": [
    "file4.close()"
   ]
  },
  {
   "cell_type": "code",
   "execution_count": null,
   "metadata": {},
   "outputs": [],
   "source": [
    "file4.closed"
   ]
  },
  {
   "cell_type": "code",
   "execution_count": null,
   "metadata": {},
   "outputs": [],
   "source": [
    "file.mode"
   ]
  },
  {
   "cell_type": "code",
   "execution_count": null,
   "metadata": {},
   "outputs": [],
   "source": [
    "file4=open(r\"C:\\Users\\etisalat\\Advanced Python, July2021\\demo.txt\",\"r\")"
   ]
  },
  {
   "cell_type": "code",
   "execution_count": null,
   "metadata": {},
   "outputs": [],
   "source": [
    "print(file4.read())"
   ]
  },
  {
   "cell_type": "code",
   "execution_count": null,
   "metadata": {},
   "outputs": [],
   "source": [
    "print(file4.read())"
   ]
  },
  {
   "cell_type": "code",
   "execution_count": null,
   "metadata": {},
   "outputs": [],
   "source": [
    "file4.seek(0)"
   ]
  },
  {
   "cell_type": "code",
   "execution_count": null,
   "metadata": {},
   "outputs": [],
   "source": [
    "print(file4.read())"
   ]
  },
  {
   "cell_type": "code",
   "execution_count": null,
   "metadata": {},
   "outputs": [],
   "source": [
    "print(file4.read())"
   ]
  },
  {
   "cell_type": "code",
   "execution_count": null,
   "metadata": {},
   "outputs": [],
   "source": [
    "file4.seek(18) # it will read from a certain text"
   ]
  },
  {
   "cell_type": "code",
   "execution_count": null,
   "metadata": {},
   "outputs": [],
   "source": [
    "print(file4.read())"
   ]
  },
  {
   "cell_type": "code",
   "execution_count": null,
   "metadata": {},
   "outputs": [],
   "source": [
    "file4.seek(0)# it will read from the begining of the content (text)"
   ]
  },
  {
   "cell_type": "code",
   "execution_count": null,
   "metadata": {},
   "outputs": [],
   "source": [
    "print(file4.read(20)) # it will show the content until a certain index"
   ]
  },
  {
   "cell_type": "code",
   "execution_count": null,
   "metadata": {},
   "outputs": [],
   "source": [
    "file4.tell() # it will show the curser position"
   ]
  },
  {
   "cell_type": "code",
   "execution_count": null,
   "metadata": {},
   "outputs": [],
   "source": [
    "print(file4.read())"
   ]
  },
  {
   "cell_type": "code",
   "execution_count": null,
   "metadata": {},
   "outputs": [],
   "source": [
    "file4.seek(0)"
   ]
  },
  {
   "cell_type": "code",
   "execution_count": null,
   "metadata": {},
   "outputs": [],
   "source": [
    "print(file4.read())"
   ]
  },
  {
   "cell_type": "code",
   "execution_count": null,
   "metadata": {},
   "outputs": [],
   "source": [
    "file4.close()"
   ]
  },
  {
   "cell_type": "markdown",
   "metadata": {},
   "source": [
    "### Write on a text file"
   ]
  },
  {
   "cell_type": "code",
   "execution_count": null,
   "metadata": {},
   "outputs": [],
   "source": [
    "file=open(r\"C:\\Users\\etisalat\\Advanced Python, July2021\\demo.txt\",\"w\")"
   ]
  },
  {
   "cell_type": "code",
   "execution_count": null,
   "metadata": {},
   "outputs": [],
   "source": [
    "file.write(\"Ramadan Kareem!!\")"
   ]
  },
  {
   "cell_type": "code",
   "execution_count": null,
   "metadata": {},
   "outputs": [],
   "source": [
    "file.close()"
   ]
  },
  {
   "cell_type": "code",
   "execution_count": null,
   "metadata": {},
   "outputs": [],
   "source": [
    "file=open(r\"C:\\Users\\etisalat\\Advanced Python, July2021\\demo.txt\",\"r\")"
   ]
  },
  {
   "cell_type": "code",
   "execution_count": null,
   "metadata": {},
   "outputs": [],
   "source": [
    "file.read()"
   ]
  },
  {
   "cell_type": "code",
   "execution_count": null,
   "metadata": {},
   "outputs": [],
   "source": [
    "file.close()"
   ]
  },
  {
   "cell_type": "markdown",
   "metadata": {},
   "source": [
    "### append to a text file"
   ]
  },
  {
   "cell_type": "code",
   "execution_count": null,
   "metadata": {},
   "outputs": [],
   "source": [
    "file=open(r\"C:\\Users\\etisalat\\Advanced Python, July2021\\demo.txt\",\"a\")"
   ]
  },
  {
   "cell_type": "code",
   "execution_count": null,
   "metadata": {},
   "outputs": [],
   "source": [
    "file.write(\"\\nmarwan\")\n",
    "file.close()"
   ]
  },
  {
   "cell_type": "code",
   "execution_count": null,
   "metadata": {},
   "outputs": [],
   "source": [
    "file=open(r\"C:\\Users\\etisalat\\Advanced Python, July2021\\demo.txt\",\"r\")"
   ]
  },
  {
   "cell_type": "code",
   "execution_count": null,
   "metadata": {},
   "outputs": [],
   "source": [
    "file.close()"
   ]
  },
  {
   "cell_type": "code",
   "execution_count": null,
   "metadata": {},
   "outputs": [],
   "source": [
    "a=file.readlines()\n",
    "a"
   ]
  },
  {
   "cell_type": "code",
   "execution_count": null,
   "metadata": {},
   "outputs": [],
   "source": [
    "file.readline()"
   ]
  },
  {
   "cell_type": "markdown",
   "metadata": {},
   "source": [
    "### file handling using (with) "
   ]
  },
  {
   "cell_type": "code",
   "execution_count": null,
   "metadata": {},
   "outputs": [],
   "source": [
    "file=open(\"demo.txt\",\"r\")\n",
    "file.read()\n",
    "file.close()"
   ]
  },
  {
   "cell_type": "code",
   "execution_count": null,
   "metadata": {},
   "outputs": [],
   "source": [
    "with open(\"demo.txt\",\"r\") as file:\n",
    "    print(file.read())"
   ]
  },
  {
   "cell_type": "code",
   "execution_count": null,
   "metadata": {},
   "outputs": [],
   "source": [
    "file.closed"
   ]
  },
  {
   "cell_type": "code",
   "execution_count": null,
   "metadata": {},
   "outputs": [],
   "source": [
    "with open(\"demo.txt\",\"w\") as file:\n",
    "    print(file.write(\"new content\"))"
   ]
  },
  {
   "cell_type": "code",
   "execution_count": null,
   "metadata": {},
   "outputs": [],
   "source": [
    "file.closed"
   ]
  },
  {
   "cell_type": "code",
   "execution_count": null,
   "metadata": {},
   "outputs": [],
   "source": [
    "file=open(r\"C:\\Users\\etisalat\\Advanced Python, July2021\\demo.txt\",\"r+\")# read & append"
   ]
  },
  {
   "cell_type": "code",
   "execution_count": null,
   "metadata": {},
   "outputs": [],
   "source": [
    "file.read()\n",
    "file.seek(3)\n",
    "file.write(\"nanananan\")"
   ]
  },
  {
   "cell_type": "code",
   "execution_count": null,
   "metadata": {},
   "outputs": [],
   "source": [
    "file.close()"
   ]
  },
  {
   "cell_type": "code",
   "execution_count": null,
   "metadata": {},
   "outputs": [],
   "source": [
    "file.closed"
   ]
  },
  {
   "cell_type": "markdown",
   "metadata": {},
   "source": [
    "### Ex1."
   ]
  },
  {
   "cell_type": "code",
   "execution_count": null,
   "metadata": {},
   "outputs": [],
   "source": [
    "def readfile(a):\n",
    "    with open(a,\"r\") as f:\n",
    "        a=f.read()\n",
    "        return a"
   ]
  },
  {
   "cell_type": "code",
   "execution_count": null,
   "metadata": {},
   "outputs": [],
   "source": [
    "print(readfile(\"new.txt\"))"
   ]
  },
  {
   "cell_type": "markdown",
   "metadata": {},
   "source": [
    "### Ex2."
   ]
  },
  {
   "cell_type": "code",
   "execution_count": null,
   "metadata": {},
   "outputs": [],
   "source": [
    "def read_append(a,b):\n",
    "    f=open(a,\"a\")\n",
    "    f.write(b)\n",
    "    f.close()\n",
    "    fr=open(a,\"r\")\n",
    "    result=fr.read()\n",
    "    fr.close()\n",
    "    return result"
   ]
  },
  {
   "cell_type": "code",
   "execution_count": null,
   "metadata": {},
   "outputs": [],
   "source": [
    "print(read_append(\"new.txt\",\"\\nnew line\"))"
   ]
  },
  {
   "cell_type": "code",
   "execution_count": null,
   "metadata": {},
   "outputs": [],
   "source": [
    "def readline(a):\n",
    "    file=open(a,\"r\")\n",
    "    result=file.readlines()\n",
    "    return result"
   ]
  },
  {
   "cell_type": "code",
   "execution_count": null,
   "metadata": {},
   "outputs": [],
   "source": [
    "print(readline(\"new.txt\"))"
   ]
  },
  {
   "cell_type": "markdown",
   "metadata": {},
   "source": [
    "### Web scraping"
   ]
  },
  {
   "cell_type": "code",
   "execution_count": null,
   "metadata": {},
   "outputs": [],
   "source": [
    "a=\"Technology Providing some techncial and soft skills courses Academy in Etisalat\""
   ]
  },
  {
   "cell_type": "code",
   "execution_count": null,
   "metadata": {},
   "outputs": [],
   "source": [
    "a[10:18]"
   ]
  },
  {
   "cell_type": "markdown",
   "metadata": {},
   "source": [
    "### web scraping using re:regular expression"
   ]
  },
  {
   "cell_type": "code",
   "execution_count": null,
   "metadata": {},
   "outputs": [],
   "source": [
    "import re"
   ]
  },
  {
   "cell_type": "code",
   "execution_count": null,
   "metadata": {},
   "outputs": [],
   "source": [
    "m=re.search(\"Academy\",a)\n",
    "start=m.start()\n",
    "end=m.end()\n",
    "a[start:end]"
   ]
  },
  {
   "cell_type": "markdown",
   "metadata": {},
   "source": [
    "### weather forecast web scraping project"
   ]
  },
  {
   "cell_type": "code",
   "execution_count": null,
   "metadata": {},
   "outputs": [],
   "source": [
    "#!pip install urllib3"
   ]
  },
  {
   "cell_type": "code",
   "execution_count": null,
   "metadata": {},
   "outputs": [],
   "source": [
    "import re\n",
    "import urllib.request"
   ]
  },
  {
   "cell_type": "code",
   "execution_count": null,
   "metadata": {},
   "outputs": [],
   "source": [
    "url=\"https://www.weather-forecast.com/locations/Sharjah/\"\n",
    "web=urllib.request.urlopen(url)"
   ]
  },
  {
   "cell_type": "code",
   "execution_count": null,
   "metadata": {},
   "outputs": [],
   "source": [
    "#web.read()"
   ]
  },
  {
   "cell_type": "code",
   "execution_count": null,
   "metadata": {},
   "outputs": [],
   "source": [
    "#type(web.read())"
   ]
  },
  {
   "cell_type": "code",
   "execution_count": null,
   "metadata": {},
   "outputs": [],
   "source": [
    "data=web.read().decode()"
   ]
  },
  {
   "cell_type": "code",
   "execution_count": null,
   "metadata": {},
   "outputs": [],
   "source": [
    "data"
   ]
  },
  {
   "cell_type": "code",
   "execution_count": null,
   "metadata": {},
   "outputs": [],
   "source": [
    "type(data)"
   ]
  },
  {
   "cell_type": "code",
   "execution_count": null,
   "metadata": {},
   "outputs": [],
   "source": [
    "s=re.search('pan class=\"phrase\">',data)\n",
    "s"
   ]
  },
  {
   "cell_type": "code",
   "execution_count": null,
   "metadata": {},
   "outputs": [],
   "source": [
    "start=s.end()\n",
    "start"
   ]
  },
  {
   "cell_type": "code",
   "execution_count": null,
   "metadata": {},
   "outputs": [],
   "source": [
    "e=re.search('</span></p></td><td cl',data)\n",
    "e"
   ]
  },
  {
   "cell_type": "code",
   "execution_count": null,
   "metadata": {},
   "outputs": [],
   "source": [
    "e.start()"
   ]
  },
  {
   "cell_type": "code",
   "execution_count": null,
   "metadata": {},
   "outputs": [],
   "source": [
    "end=e.start()"
   ]
  },
  {
   "cell_type": "code",
   "execution_count": null,
   "metadata": {},
   "outputs": [],
   "source": [
    "end"
   ]
  },
  {
   "cell_type": "code",
   "execution_count": null,
   "metadata": {},
   "outputs": [],
   "source": [
    "data[start:end]"
   ]
  },
  {
   "cell_type": "markdown",
   "metadata": {},
   "source": [
    "### web scraping using Beautiful Soup"
   ]
  },
  {
   "cell_type": "markdown",
   "metadata": {},
   "source": [
    "### example1"
   ]
  },
  {
   "cell_type": "code",
   "execution_count": null,
   "metadata": {},
   "outputs": [],
   "source": [
    "from bs4 import BeautifulSoup"
   ]
  },
  {
   "cell_type": "code",
   "execution_count": null,
   "metadata": {},
   "outputs": [],
   "source": [
    "html='''\n",
    "<html>\n",
    "<body>\n",
    "<h1>my first head line</h1>\n",
    "<b><!--this is a comment line--></b>\n",
    "<p title=\"about me\" class=\"test\">my first paragraph.</p>\n",
    "<div class=\"cities\">\n",
    "<h2>London</h2>\n",
    "</div>\n",
    "</body>\n",
    "</html>\n",
    "'''"
   ]
  },
  {
   "cell_type": "code",
   "execution_count": null,
   "metadata": {},
   "outputs": [],
   "source": [
    "data=BeautifulSoup(html,\"html.parser\")"
   ]
  },
  {
   "cell_type": "code",
   "execution_count": null,
   "metadata": {},
   "outputs": [],
   "source": [
    "print(data)"
   ]
  },
  {
   "cell_type": "code",
   "execution_count": null,
   "metadata": {},
   "outputs": [],
   "source": [
    "type(data)"
   ]
  },
  {
   "cell_type": "code",
   "execution_count": null,
   "metadata": {},
   "outputs": [],
   "source": [
    "data.html.body.h1.string"
   ]
  },
  {
   "cell_type": "code",
   "execution_count": null,
   "metadata": {},
   "outputs": [],
   "source": [
    "data.body.p.string"
   ]
  },
  {
   "cell_type": "code",
   "execution_count": null,
   "metadata": {},
   "outputs": [],
   "source": [
    "#London\n",
    "data.body.h2.string"
   ]
  },
  {
   "cell_type": "markdown",
   "metadata": {},
   "source": [
    "### example2"
   ]
  },
  {
   "cell_type": "code",
   "execution_count": null,
   "metadata": {},
   "outputs": [],
   "source": [
    "html2='''\n",
    "<html>\n",
    "<head>\n",
    "<h1>Web Scrapping Demo</h1>\n",
    "</head>\n",
    "<body>\n",
    "<div class=\"organizationlist\">\n",
    "\t<ul id=\"HR\">\n",
    "\t\t<h2>HR</h2>\n",
    "\t\t<li class=\"HRmanager\">\n",
    "\t\t\t<div class=\"name\">Jack</div>\n",
    "\t\t\t<div class=\"ID\">101</div>\n",
    "\t\t</li>\n",
    "\t\t<li class=\"HRmanager\">\n",
    "\t\t\t<div class=\"name\">Kelly</div>\n",
    "\t\t\t<div class=\"ID\">103</div>\n",
    "\t\t</li>\n",
    "\t</ul>\n",
    "\t<ul id=\"IT\">\n",
    "\t\t<h2>IT</h2>\n",
    "\t\t<li class=\"ITmanager\">\n",
    "\t\t\t<div class=\"name\">Daren</div>\n",
    "\t\t\t<div class=\"ID\">65</div>\n",
    "\t\t</li>\n",
    "\t</ul>\n",
    "\t<ul id=\"Finance\">\n",
    "\t\t<h2>Finance</h2>\n",
    "\t\t<li class=\"GENmanager\">\n",
    "\t\t\t<div class=\"name\">Sammy</div>\n",
    "\t\t\t<div class=\"ID\">007</div>\n",
    "\t\t</li>\n",
    "\t\t<li class=\"AccManager\">\n",
    "\t\t\t<div class=\"name\">Joseph</div>\n",
    "\t\t\t<div class=\"ID\">09</div>\n",
    "\t\t</li>\n",
    "\t</ul>\n",
    "</div>\n",
    "</body>\n",
    "</html>'''"
   ]
  },
  {
   "cell_type": "code",
   "execution_count": null,
   "metadata": {},
   "outputs": [],
   "source": [
    "data2=BeautifulSoup(html2,\"html.parser\")"
   ]
  },
  {
   "cell_type": "code",
   "execution_count": null,
   "metadata": {},
   "outputs": [],
   "source": [
    "data2"
   ]
  },
  {
   "cell_type": "code",
   "execution_count": null,
   "metadata": {},
   "outputs": [],
   "source": [
    "#Jack\n",
    "data2.body.div.ul.li.div.string"
   ]
  },
  {
   "cell_type": "code",
   "execution_count": null,
   "metadata": {},
   "outputs": [],
   "source": [
    "#101\n",
    "data2.body.ul.li.div.findNextSibling().string"
   ]
  },
  {
   "cell_type": "code",
   "execution_count": null,
   "metadata": {},
   "outputs": [],
   "source": [
    "#Sammy\n",
    "data2.body.div.ul.findNextSibling().findNextSibling().li.div.string"
   ]
  },
  {
   "cell_type": "markdown",
   "metadata": {},
   "source": [
    "### Beautiful Soup functions"
   ]
  },
  {
   "cell_type": "markdown",
   "metadata": {},
   "source": [
    "### .find() --> tag"
   ]
  },
  {
   "cell_type": "code",
   "execution_count": null,
   "metadata": {},
   "outputs": [],
   "source": [
    "data2.find(\"ul\")"
   ]
  },
  {
   "cell_type": "markdown",
   "metadata": {},
   "source": [
    "### findAll()"
   ]
  },
  {
   "cell_type": "code",
   "execution_count": null,
   "metadata": {},
   "outputs": [],
   "source": [
    "data2.findAll(\"ul\")"
   ]
  },
  {
   "cell_type": "code",
   "execution_count": null,
   "metadata": {},
   "outputs": [],
   "source": [
    "data2.findAll(\"ul\")[2].div.string"
   ]
  },
  {
   "cell_type": "markdown",
   "metadata": {},
   "source": [
    "### searching using a class"
   ]
  },
  {
   "cell_type": "code",
   "execution_count": null,
   "metadata": {},
   "outputs": [],
   "source": [
    "data2.find(attrs={\"class\":\"GENmanager\"})"
   ]
  },
  {
   "cell_type": "code",
   "execution_count": null,
   "metadata": {},
   "outputs": [],
   "source": [
    "data2.findAll(attrs={\"class\":\"HRmanager\"})"
   ]
  },
  {
   "cell_type": "code",
   "execution_count": null,
   "metadata": {},
   "outputs": [],
   "source": [
    "data2.findAll(attrs={\"class\":\"HRmanager\"})[1].div.string"
   ]
  },
  {
   "cell_type": "markdown",
   "metadata": {},
   "source": [
    "### webscraping for emax website"
   ]
  },
  {
   "cell_type": "code",
   "execution_count": null,
   "metadata": {},
   "outputs": [],
   "source": [
    "import requests "
   ]
  },
  {
   "cell_type": "code",
   "execution_count": null,
   "metadata": {},
   "outputs": [],
   "source": [
    "url=\"https://www.weather-forecast.com/locations/Sharjah/forecasts/latest\"\n",
    "data=requests.get(url)"
   ]
  },
  {
   "cell_type": "code",
   "execution_count": null,
   "metadata": {},
   "outputs": [],
   "source": [
    "data"
   ]
  },
  {
   "cell_type": "code",
   "execution_count": null,
   "metadata": {},
   "outputs": [],
   "source": [
    "data.text"
   ]
  },
  {
   "cell_type": "code",
   "execution_count": null,
   "metadata": {},
   "outputs": [],
   "source": [
    "web=BeautifulSoup(data.text,\"html.parser\")"
   ]
  },
  {
   "cell_type": "code",
   "execution_count": null,
   "metadata": {},
   "outputs": [],
   "source": [
    "web"
   ]
  },
  {
   "cell_type": "code",
   "execution_count": null,
   "metadata": {},
   "outputs": [],
   "source": [
    "web.findAll(attrs={\"class\":\"phrase\"})"
   ]
  },
  {
   "cell_type": "markdown",
   "metadata": {},
   "source": [
    "### HW: from the last example , extract all required data into a text file (only the string)\n",
    "### you need to use Append mode, using a loop"
   ]
  },
  {
   "cell_type": "code",
   "execution_count": null,
   "metadata": {},
   "outputs": [],
   "source": [
    "web.findAll(attrs={\"class\":\"phrase\"})[0].string"
   ]
  },
  {
   "cell_type": "markdown",
   "metadata": {},
   "source": [
    "### Error Handling"
   ]
  },
  {
   "cell_type": "code",
   "execution_count": 4,
   "metadata": {},
   "outputs": [
    {
     "ename": "TypeError",
     "evalue": "int() argument must be a string, a bytes-like object or a number, not 'list'",
     "output_type": "error",
     "traceback": [
      "\u001b[1;31m---------------------------------------------------------------------------\u001b[0m",
      "\u001b[1;31mTypeError\u001b[0m                                 Traceback (most recent call last)",
      "\u001b[1;32m<ipython-input-4-054e3f4eeb6d>\u001b[0m in \u001b[0;36m<module>\u001b[1;34m()\u001b[0m\n\u001b[1;32m----> 1\u001b[1;33m \u001b[0ma\u001b[0m\u001b[1;33m=\u001b[0m\u001b[0mint\u001b[0m\u001b[1;33m(\u001b[0m\u001b[1;33m[\u001b[0m\u001b[1;34m\"m\"\u001b[0m\u001b[1;33m,\u001b[0m\u001b[1;36m50\u001b[0m\u001b[1;33m,\u001b[0m\u001b[1;32mTrue\u001b[0m\u001b[1;33m]\u001b[0m\u001b[1;33m)\u001b[0m\u001b[1;33m\u001b[0m\u001b[0m\n\u001b[0m\u001b[0;32m      2\u001b[0m \u001b[0mb\u001b[0m\u001b[1;33m=\u001b[0m\u001b[1;34m\"etisalat\"\u001b[0m\u001b[1;33m\u001b[0m\u001b[0m\n\u001b[0;32m      3\u001b[0m \u001b[0mprint\u001b[0m\u001b[1;33m(\u001b[0m\u001b[0mb\u001b[0m\u001b[1;33m)\u001b[0m\u001b[1;33m\u001b[0m\u001b[0m\n",
      "\u001b[1;31mTypeError\u001b[0m: int() argument must be a string, a bytes-like object or a number, not 'list'"
     ]
    }
   ],
   "source": [
    "a=int([\"m\",50,True])\n",
    "b=\"etisalat\"\n",
    "print(b)"
   ]
  },
  {
   "cell_type": "code",
   "execution_count": 3,
   "metadata": {},
   "outputs": [
    {
     "ename": "ValueError",
     "evalue": "invalid literal for int() with base 10: 'mohammed'",
     "output_type": "error",
     "traceback": [
      "\u001b[1;31m---------------------------------------------------------------------------\u001b[0m",
      "\u001b[1;31mValueError\u001b[0m                                Traceback (most recent call last)",
      "\u001b[1;32m<ipython-input-3-f360c6c9d7ca>\u001b[0m in \u001b[0;36m<module>\u001b[1;34m()\u001b[0m\n\u001b[1;32m----> 1\u001b[1;33m \u001b[0ma\u001b[0m\u001b[1;33m=\u001b[0m\u001b[0mint\u001b[0m\u001b[1;33m(\u001b[0m\u001b[1;34m\"mohammed\"\u001b[0m\u001b[1;33m)\u001b[0m\u001b[1;33m\u001b[0m\u001b[0m\n\u001b[0m\u001b[0;32m      2\u001b[0m \u001b[0mb\u001b[0m\u001b[1;33m=\u001b[0m\u001b[1;34m\"etisalat\"\u001b[0m\u001b[1;33m\u001b[0m\u001b[0m\n\u001b[0;32m      3\u001b[0m \u001b[0mprint\u001b[0m\u001b[1;33m(\u001b[0m\u001b[0mb\u001b[0m\u001b[1;33m)\u001b[0m\u001b[1;33m\u001b[0m\u001b[0m\n",
      "\u001b[1;31mValueError\u001b[0m: invalid literal for int() with base 10: 'mohammed'"
     ]
    }
   ],
   "source": [
    "a=int(\"mohammed\")\n",
    "b=\"etisalat\"\n",
    "print(b)"
   ]
  },
  {
   "cell_type": "markdown",
   "metadata": {},
   "source": [
    "### 1st way"
   ]
  },
  {
   "cell_type": "code",
   "execution_count": 9,
   "metadata": {},
   "outputs": [
    {
     "name": "stdout",
     "output_type": "stream",
     "text": [
      "their is an error!!\n",
      "etisalat\n"
     ]
    }
   ],
   "source": [
    "try:\n",
    "    a=int(\"mohmmed\")\n",
    "    \n",
    "except:\n",
    "    print(\"their is an error!!\")\n",
    "\n",
    "#print(a)\n",
    "b=\"etisalat\"\n",
    "print(b)\n",
    "    "
   ]
  },
  {
   "cell_type": "markdown",
   "metadata": {},
   "source": [
    "## 2nd way"
   ]
  },
  {
   "cell_type": "code",
   "execution_count": null,
   "metadata": {},
   "outputs": [],
   "source": [
    "try:\n",
    "    a=int(c)\n",
    "    \n",
    "except TypeError:\n",
    "    print(\"list is not allowed .. please enter a number.\")\n",
    "\n",
    "except ValueError:\n",
    "    print(\"string is not allowed .. please enter a number.\")\n",
    "\n",
    "except NameError:\n",
    "    print(\"variables are not accepted.. please enter a number.\")\n",
    "\n",
    "#print(a)\n",
    "b=\"etisalat\"\n",
    "print(b)"
   ]
  },
  {
   "cell_type": "markdown",
   "metadata": {},
   "source": [
    "### 3rd way"
   ]
  },
  {
   "cell_type": "code",
   "execution_count": null,
   "metadata": {},
   "outputs": [],
   "source": [
    "try:\n",
    "    a=int(c)\n",
    "    \n",
    "except (TypeError,ValueError, NameError):\n",
    "    print(\"list ,string and variables are not allowed .. please enter a number.\")\n",
    "\n",
    "#print(a)\n",
    "b=\"etisalat\"\n",
    "print(b)"
   ]
  },
  {
   "cell_type": "markdown",
   "metadata": {},
   "source": [
    "### 4th way"
   ]
  },
  {
   "cell_type": "code",
   "execution_count": 2,
   "metadata": {},
   "outputs": [
    {
     "name": "stdout",
     "output_type": "stream",
     "text": [
      "invalid literal for int() with base 10: 'mohammed'\n",
      "etisalat\n"
     ]
    }
   ],
   "source": [
    "try:\n",
    "    a=int(\"mohammed\")\n",
    "    \n",
    "except Exception as e:\n",
    "    print(e)\n",
    "\n",
    "#print(a)\n",
    "b=\"etisalat\"\n",
    "print(b)"
   ]
  },
  {
   "cell_type": "markdown",
   "metadata": {},
   "source": [
    "### try , except, else , finally"
   ]
  },
  {
   "cell_type": "code",
   "execution_count": 10,
   "metadata": {},
   "outputs": [
    {
     "name": "stdout",
     "output_type": "stream",
     "text": [
      "their is an error!!\n",
      "etisalat\n"
     ]
    }
   ],
   "source": [
    "try:\n",
    "    a=int(\"mohmmed\")\n",
    "    \n",
    "except:\n",
    "    print(\"their is an error!!\")\n",
    "\n",
    "else: \n",
    "    print(\"no error !! \")\n",
    "    \n",
    "finally: \n",
    "    #print(a)\n",
    "    b=\"etisalat\"\n",
    "    print(b)\n",
    "    "
   ]
  },
  {
   "cell_type": "markdown",
   "metadata": {},
   "source": [
    "### Regular Expression "
   ]
  },
  {
   "cell_type": "code",
   "execution_count": 15,
   "metadata": {},
   "outputs": [],
   "source": [
    "a='''\n",
    "Mojhfgjh is having 30 years old\n",
    "Saeed is having 40 years old\n",
    "'''"
   ]
  },
  {
   "cell_type": "code",
   "execution_count": 16,
   "metadata": {},
   "outputs": [],
   "source": [
    "import re"
   ]
  },
  {
   "cell_type": "code",
   "execution_count": 17,
   "metadata": {},
   "outputs": [
    {
     "data": {
      "text/plain": [
       "['30', '40']"
      ]
     },
     "execution_count": 17,
     "metadata": {},
     "output_type": "execute_result"
    }
   ],
   "source": [
    "re.findall(\"\\d\\d\",a)"
   ]
  },
  {
   "cell_type": "code",
   "execution_count": 18,
   "metadata": {},
   "outputs": [
    {
     "data": {
      "text/plain": [
       "['Mojhfgjh', 'Saeed']"
      ]
     },
     "execution_count": 18,
     "metadata": {},
     "output_type": "execute_result"
    }
   ],
   "source": [
    "re.findall(\"[A-Z][a-z]*\",a)"
   ]
  },
  {
   "cell_type": "markdown",
   "metadata": {},
   "source": [
    "### re functions"
   ]
  },
  {
   "cell_type": "markdown",
   "metadata": {},
   "source": [
    "### re.match will search only the the begining of the string, will return the index of the pattern"
   ]
  },
  {
   "cell_type": "code",
   "execution_count": 30,
   "metadata": {},
   "outputs": [
    {
     "data": {
      "text/plain": [
       "<_sre.SRE_Match object; span=(0, 4), match='spam'>"
      ]
     },
     "execution_count": 30,
     "metadata": {},
     "output_type": "execute_result"
    }
   ],
   "source": [
    "a=\"spamspamspam\"\n",
    "pattern=\"spam\"\n",
    "re.match(pattern,a)"
   ]
  },
  {
   "cell_type": "code",
   "execution_count": 29,
   "metadata": {},
   "outputs": [
    {
     "data": {
      "text/plain": [
       "'\\nif re.match(pattern,a):\\n    print(\"match\")\\n    \\nelse:\\n    print(\"Not matching\")\\n'"
      ]
     },
     "execution_count": 29,
     "metadata": {},
     "output_type": "execute_result"
    }
   ],
   "source": [
    "'''\n",
    "if re.match(pattern,a):\n",
    "    print(\"match\")\n",
    "    \n",
    "else:\n",
    "    print(\"Not matching\")\n",
    "'''"
   ]
  },
  {
   "cell_type": "markdown",
   "metadata": {},
   "source": [
    "### re.search : will search everywhere inside the string, it will return the index of the pattern"
   ]
  },
  {
   "cell_type": "code",
   "execution_count": 33,
   "metadata": {},
   "outputs": [
    {
     "data": {
      "text/plain": [
       "<_sre.SRE_Match object; span=(3, 7), match='spam'>"
      ]
     },
     "execution_count": 33,
     "metadata": {},
     "output_type": "execute_result"
    }
   ],
   "source": [
    "a=\"123spamspamspam\"\n",
    "pattern=\"spam\"\n",
    "re.search(pattern,a)"
   ]
  },
  {
   "cell_type": "markdown",
   "metadata": {},
   "source": [
    "### re.findall : it will return all the matching of the pattern in a string, it will return a list of matching"
   ]
  },
  {
   "cell_type": "code",
   "execution_count": 36,
   "metadata": {},
   "outputs": [
    {
     "data": {
      "text/plain": [
       "['spam', 'spam', 'spam']"
      ]
     },
     "execution_count": 36,
     "metadata": {},
     "output_type": "execute_result"
    }
   ],
   "source": [
    "a=\"123spamspamspam\"\n",
    "pattern=\"spam\"\n",
    "re.findall(pattern,a)"
   ]
  },
  {
   "cell_type": "markdown",
   "metadata": {},
   "source": [
    "### re.sub: it will replace based on a pattern with a new string "
   ]
  },
  {
   "cell_type": "code",
   "execution_count": 38,
   "metadata": {},
   "outputs": [
    {
     "data": {
      "text/plain": [
       "'123nospamnospamnospam'"
      ]
     },
     "execution_count": 38,
     "metadata": {},
     "output_type": "execute_result"
    }
   ],
   "source": [
    "a=\"123spamspamspam\"\n",
    "pattern=\"spam\"\n",
    "re.sub(pattern,\"nospam\",a)"
   ]
  },
  {
   "cell_type": "markdown",
   "metadata": {},
   "source": [
    "### re.finditer: it will return multiple index for all the pattern matches on the string "
   ]
  },
  {
   "cell_type": "code",
   "execution_count": 42,
   "metadata": {},
   "outputs": [
    {
     "name": "stdout",
     "output_type": "stream",
     "text": [
      "<_sre.SRE_Match object; span=(3, 7), match='spam'>\n",
      "<_sre.SRE_Match object; span=(7, 11), match='spam'>\n",
      "<_sre.SRE_Match object; span=(11, 15), match='spam'>\n"
     ]
    }
   ],
   "source": [
    "a=\"123spamspamspam\"\n",
    "pattern=\"spam\"\n",
    "for i in re.finditer(pattern,a):\n",
    "    print(i)"
   ]
  },
  {
   "cell_type": "markdown",
   "metadata": {},
   "source": [
    "### Metacharacters"
   ]
  },
  {
   "cell_type": "markdown",
   "metadata": {},
   "source": [
    "### dot(.) means anycharacters"
   ]
  },
  {
   "cell_type": "code",
   "execution_count": 61,
   "metadata": {},
   "outputs": [
    {
     "data": {
      "text/plain": [
       "<_sre.SRE_Match object; span=(0, 8), match='muhammad'>"
      ]
     },
     "execution_count": 61,
     "metadata": {},
     "output_type": "execute_result"
    }
   ],
   "source": [
    "string=\"muhammad m\" # muhammad , mohammad , mohammed \n",
    "pattern=\"m.hamm.d\"\n",
    "#pattern=\"m.hamm.d\"\n",
    "\n",
    "re.search(pattern,string)"
   ]
  },
  {
   "cell_type": "markdown",
   "metadata": {},
   "source": [
    "### ^ and $"
   ]
  },
  {
   "cell_type": "code",
   "execution_count": 72,
   "metadata": {},
   "outputs": [],
   "source": [
    "string=\"muhammadn\" # muhammad , mohammad , mohammed \n",
    "pattern=\"^m.hamm.d$\"\n",
    "#pattern=\"m.hamm.d\"\n",
    "\n",
    "re.search(pattern,string)"
   ]
  },
  {
   "cell_type": "markdown",
   "metadata": {},
   "source": [
    "### [ ]"
   ]
  },
  {
   "cell_type": "code",
   "execution_count": 80,
   "metadata": {},
   "outputs": [
    {
     "data": {
      "text/plain": [
       "<_sre.SRE_Match object; span=(0, 8), match='mohammad'>"
      ]
     },
     "execution_count": 80,
     "metadata": {},
     "output_type": "execute_result"
    }
   ],
   "source": [
    "string=\"mohammad is a trainer\" # muhammad , mohammad , mohammed \n",
    "pattern=\"m[ou]hamm[ae]d\"\n",
    "#pattern=\"m.hamm.d\"\n",
    "\n",
    "re.search(pattern,string)"
   ]
  },
  {
   "cell_type": "markdown",
   "metadata": {},
   "source": [
    "### [a-z] [A-Z] [A-Za-z] [0-9] range"
   ]
  },
  {
   "cell_type": "code",
   "execution_count": 88,
   "metadata": {},
   "outputs": [],
   "source": [
    "string=\"m0hammad is a trainer\" # muhammad , mohammad , mohammed \n",
    "pattern=\"m[A-Za-z]hamm[ae]d\"\n",
    "#pattern=\"m.hamm.d\"\n",
    "\n",
    "re.search(pattern,string)"
   ]
  },
  {
   "cell_type": "markdown",
   "metadata": {},
   "source": [
    "### ^"
   ]
  },
  {
   "cell_type": "code",
   "execution_count": 91,
   "metadata": {},
   "outputs": [
    {
     "data": {
      "text/plain": [
       "<_sre.SRE_Match object; span=(0, 8), match='m0hammad'>"
      ]
     },
     "execution_count": 91,
     "metadata": {},
     "output_type": "execute_result"
    }
   ],
   "source": [
    "string=\"m0hammad is a trainer\" # muhammad , mohammad , mohammed \n",
    "pattern=\"m[^A-Za-z]hamm[ae]d\"\n",
    "#pattern=\"m.hamm.d\"\n",
    "\n",
    "re.search(pattern,string)"
   ]
  },
  {
   "cell_type": "code",
   "execution_count": null,
   "metadata": {},
   "outputs": [],
   "source": [
    "string=\n",
    "pattern = r\"egg(spam)*\"\n",
    "\n",
    "if re.match(pattern, \"egg\"):\n",
    "    print(\"Match 1\")\n",
    "if re.match(pattern, \"eggspamspamegg\"):\n",
    "    print(\"Match 2\")\n",
    "if re.match(pattern, \"spam\"):\n",
    "    print(\"Match 3\")\n"
   ]
  },
  {
   "cell_type": "markdown",
   "metadata": {},
   "source": [
    "### (* ) mean zero or more "
   ]
  },
  {
   "cell_type": "code",
   "execution_count": 101,
   "metadata": {},
   "outputs": [
    {
     "data": {
      "text/plain": [
       "<_sre.SRE_Match object; span=(7, 14), match='eggspam'>"
      ]
     },
     "execution_count": 101,
     "metadata": {},
     "output_type": "execute_result"
    }
   ],
   "source": [
    "string=\"abcdef eggspam mohammed\"\n",
    "pattern = r\"egg(spam)*\"\n",
    "\n",
    "re.search(pattern,string)"
   ]
  },
  {
   "cell_type": "markdown",
   "metadata": {},
   "source": [
    "### + mean 1 or more "
   ]
  },
  {
   "cell_type": "code",
   "execution_count": 125,
   "metadata": {},
   "outputs": [
    {
     "name": "stdout",
     "output_type": "stream",
     "text": [
      "<_sre.SRE_Match object; span=(6, 7), match='g'>\n"
     ]
    }
   ],
   "source": [
    "string=\"abcdefg\"\n",
    "pattern=\"g+\"\n",
    "\n",
    "for i in re.finditer(pattern,string):\n",
    "    print(i)"
   ]
  },
  {
   "cell_type": "code",
   "execution_count": 127,
   "metadata": {},
   "outputs": [],
   "source": [
    "string=\"abcdef\"\n",
    "pattern=\"g+\"\n",
    "\n",
    "re.search(pattern,string)"
   ]
  },
  {
   "cell_type": "markdown",
   "metadata": {},
   "source": [
    "### ? zero or one time repetition"
   ]
  },
  {
   "cell_type": "code",
   "execution_count": 135,
   "metadata": {},
   "outputs": [
    {
     "data": {
      "text/plain": [
       "<_sre.SRE_Match object; span=(0, 8), match='mohammed'>"
      ]
     },
     "execution_count": 135,
     "metadata": {},
     "output_type": "execute_result"
    }
   ],
   "source": [
    "string=\"mohammed is a trainer\" # muhammad , mohammad , mohammed \n",
    "pattern=\"moham(m)?ed\"\n",
    "#pattern=\"m.hamm.d\"\n",
    "\n",
    "re.search(pattern,string)"
   ]
  },
  {
   "cell_type": "markdown",
   "metadata": {},
   "source": [
    "### {} decide number of repetition"
   ]
  },
  {
   "cell_type": "code",
   "execution_count": 150,
   "metadata": {},
   "outputs": [
    {
     "data": {
      "text/plain": [
       "<_sre.SRE_Match object; span=(0, 7), match='mohamed'>"
      ]
     },
     "execution_count": 150,
     "metadata": {},
     "output_type": "execute_result"
    }
   ],
   "source": [
    "string=\"mohamed is a trainer\"\n",
    "pattern=\"moham{1,2}ed\"\n",
    "re.search(pattern,string)"
   ]
  },
  {
   "cell_type": "markdown",
   "metadata": {},
   "source": [
    "### (|) means or "
   ]
  },
  {
   "cell_type": "code",
   "execution_count": 156,
   "metadata": {},
   "outputs": [
    {
     "data": {
      "text/plain": [
       "<_sre.SRE_Match object; span=(0, 9), match='mohamma.d'>"
      ]
     },
     "execution_count": 156,
     "metadata": {},
     "output_type": "execute_result"
    }
   ],
   "source": [
    "string=\"mohamma.d is a trainer\" # muhammad , mohammad , mohammed \n",
    "pattern=\"m(o|u)hamm[ae]\\.d\"\n",
    "#pattern=\"m.hamm.d\"\n",
    "\n",
    "re.search(pattern,string)"
   ]
  },
  {
   "cell_type": "markdown",
   "metadata": {},
   "source": [
    "### Ex1."
   ]
  },
  {
   "cell_type": "code",
   "execution_count": 164,
   "metadata": {},
   "outputs": [],
   "source": [
    "a=[\"444-122-1234\",\"123-122-7899\",\"111-123-23\",\"67-7890-2019\"]"
   ]
  },
  {
   "cell_type": "code",
   "execution_count": 165,
   "metadata": {},
   "outputs": [
    {
     "name": "stdout",
     "output_type": "stream",
     "text": [
      "444-122-1234 ,real number\n",
      "123-122-7899 ,real number\n"
     ]
    }
   ],
   "source": [
    "pattern = \"^\\d\\d\\d-\\d\\d\\d-\\d\\d\\d\\d$\"\n",
    "\n",
    "for i in a:\n",
    "    if re.match(pattern,i):\n",
    "        print(i,\",real number\")"
   ]
  },
  {
   "cell_type": "markdown",
   "metadata": {},
   "source": [
    "### Excel Automation"
   ]
  },
  {
   "cell_type": "code",
   "execution_count": 166,
   "metadata": {},
   "outputs": [],
   "source": [
    "import openpyxl"
   ]
  },
  {
   "cell_type": "markdown",
   "metadata": {},
   "source": [
    "### loading our excel workbook"
   ]
  },
  {
   "cell_type": "code",
   "execution_count": 183,
   "metadata": {},
   "outputs": [],
   "source": [
    "wb=openpyxl.load_workbook(r\"C:\\Users\\etisalat\\Advance Python Training code\\Day2\\Excel Automation\\airline-july.xlsx\")"
   ]
  },
  {
   "cell_type": "markdown",
   "metadata": {},
   "source": [
    "### to get how many sheets available within the workbook"
   ]
  },
  {
   "cell_type": "code",
   "execution_count": 184,
   "metadata": {},
   "outputs": [
    {
     "name": "stderr",
     "output_type": "stream",
     "text": [
      "C:\\Users\\etisalat\\anacondanew\\Anaconda3\\lib\\site-packages\\ipykernel_launcher.py:1: DeprecationWarning: Call to deprecated function get_sheet_names (Use wb.sheetnames).\n",
      "  \"\"\"Entry point for launching an IPython kernel.\n"
     ]
    },
    {
     "data": {
      "text/plain": [
       "['Sheet1', 'Sheet2', 'Sheet3']"
      ]
     },
     "execution_count": 184,
     "metadata": {},
     "output_type": "execute_result"
    }
   ],
   "source": [
    "wb.get_sheet_names()"
   ]
  },
  {
   "cell_type": "code",
   "execution_count": 189,
   "metadata": {},
   "outputs": [
    {
     "name": "stderr",
     "output_type": "stream",
     "text": [
      "C:\\Users\\etisalat\\anacondanew\\Anaconda3\\lib\\site-packages\\ipykernel_launcher.py:1: DeprecationWarning: Call to deprecated function get_sheet_by_name (Use wb[sheetname]).\n",
      "  \"\"\"Entry point for launching an IPython kernel.\n"
     ]
    }
   ],
   "source": [
    "sheet=wb.get_sheet_by_name(\"Sheet1\")"
   ]
  },
  {
   "cell_type": "code",
   "execution_count": 190,
   "metadata": {},
   "outputs": [
    {
     "data": {
      "text/plain": [
       "<Worksheet \"Sheet1\">"
      ]
     },
     "execution_count": 190,
     "metadata": {},
     "output_type": "execute_result"
    }
   ],
   "source": [
    "sheet"
   ]
  },
  {
   "cell_type": "code",
   "execution_count": 191,
   "metadata": {},
   "outputs": [
    {
     "data": {
      "text/plain": [
       "'Sheet1'"
      ]
     },
     "execution_count": 191,
     "metadata": {},
     "output_type": "execute_result"
    }
   ],
   "source": [
    "sheet.title"
   ]
  },
  {
   "cell_type": "markdown",
   "metadata": {},
   "source": [
    "### 1st way: read a value from excel sheet"
   ]
  },
  {
   "cell_type": "code",
   "execution_count": 193,
   "metadata": {},
   "outputs": [
    {
     "data": {
      "text/plain": [
       "1949"
      ]
     },
     "execution_count": 193,
     "metadata": {},
     "output_type": "execute_result"
    }
   ],
   "source": [
    "sheet[\"A2\"].value"
   ]
  },
  {
   "cell_type": "code",
   "execution_count": 200,
   "metadata": {},
   "outputs": [],
   "source": [
    "a=sheet[\"D12\"].value"
   ]
  },
  {
   "cell_type": "code",
   "execution_count": 201,
   "metadata": {},
   "outputs": [
    {
     "data": {
      "text/plain": [
       "0.3856"
      ]
     },
     "execution_count": 201,
     "metadata": {},
     "output_type": "execute_result"
    }
   ],
   "source": [
    "a"
   ]
  },
  {
   "cell_type": "code",
   "execution_count": 202,
   "metadata": {},
   "outputs": [],
   "source": [
    "cell=sheet[\"A2\"]"
   ]
  },
  {
   "cell_type": "code",
   "execution_count": 203,
   "metadata": {},
   "outputs": [
    {
     "data": {
      "text/plain": [
       "2"
      ]
     },
     "execution_count": 203,
     "metadata": {},
     "output_type": "execute_result"
    }
   ],
   "source": [
    "cell.row"
   ]
  },
  {
   "cell_type": "code",
   "execution_count": 204,
   "metadata": {},
   "outputs": [
    {
     "data": {
      "text/plain": [
       "'A'"
      ]
     },
     "execution_count": 204,
     "metadata": {},
     "output_type": "execute_result"
    }
   ],
   "source": [
    "cell.column"
   ]
  },
  {
   "cell_type": "markdown",
   "metadata": {},
   "source": [
    "### 2nd way"
   ]
  },
  {
   "cell_type": "code",
   "execution_count": 207,
   "metadata": {},
   "outputs": [
    {
     "data": {
      "text/plain": [
       "1949"
      ]
     },
     "execution_count": 207,
     "metadata": {},
     "output_type": "execute_result"
    }
   ],
   "source": [
    "sheet.cell(row=2,column=1).value"
   ]
  },
  {
   "cell_type": "markdown",
   "metadata": {},
   "source": [
    "### reading from one row"
   ]
  },
  {
   "cell_type": "code",
   "execution_count": 209,
   "metadata": {},
   "outputs": [
    {
     "name": "stdout",
     "output_type": "stream",
     "text": [
      "1953\n",
      "2.731\n",
      "0.322\n",
      "0.3593\n",
      "1.926\n",
      "0.711\n"
     ]
    }
   ],
   "source": [
    "for i in range(1,7):\n",
    "    a=sheet.cell(row=6,column=i).value\n",
    "    print(a)"
   ]
  },
  {
   "cell_type": "markdown",
   "metadata": {},
   "source": [
    "### reading from one column"
   ]
  },
  {
   "cell_type": "code",
   "execution_count": 210,
   "metadata": {},
   "outputs": [
    {
     "name": "stdout",
     "output_type": "stream",
     "text": [
      "co1\n",
      "1949\n",
      "1950\n",
      "1951\n",
      "1952\n",
      "1953\n",
      "1954\n",
      "1955\n",
      "1956\n",
      "1957\n",
      "1958\n",
      "1959\n",
      "1960\n",
      "1961\n",
      "1962\n",
      "1963\n",
      "1964\n",
      "1965\n",
      "1966\n",
      "1967\n",
      "1968\n",
      "1969\n",
      "1970\n",
      "1971\n",
      "1972\n",
      "1973\n",
      "1974\n",
      "1975\n",
      "1976\n",
      "1977\n",
      "1978\n",
      "1979\n"
     ]
    }
   ],
   "source": [
    "for i in range(1,33):\n",
    "    a=sheet.cell(row=i,column=1).value\n",
    "    print(a)"
   ]
  },
  {
   "cell_type": "markdown",
   "metadata": {},
   "source": [
    "### assign a new value for sheet cell"
   ]
  },
  {
   "cell_type": "code",
   "execution_count": 212,
   "metadata": {},
   "outputs": [],
   "source": [
    "sheet[\"A2\"].value=\"mohammed\""
   ]
  },
  {
   "cell_type": "code",
   "execution_count": 213,
   "metadata": {},
   "outputs": [
    {
     "data": {
      "text/plain": [
       "'mohammed'"
      ]
     },
     "execution_count": 213,
     "metadata": {},
     "output_type": "execute_result"
    }
   ],
   "source": [
    "sheet[\"A2\"].value"
   ]
  },
  {
   "cell_type": "code",
   "execution_count": 215,
   "metadata": {},
   "outputs": [],
   "source": [
    "wb.save(\"airline-july.xlsx\")"
   ]
  },
  {
   "cell_type": "markdown",
   "metadata": {},
   "source": [
    "### reading range of cell"
   ]
  },
  {
   "cell_type": "code",
   "execution_count": 227,
   "metadata": {},
   "outputs": [
    {
     "data": {
      "text/plain": [
       "((<Cell 'Sheet1'.A1>,\n",
       "  <Cell 'Sheet1'.B1>,\n",
       "  <Cell 'Sheet1'.C1>,\n",
       "  <Cell 'Sheet1'.D1>,\n",
       "  <Cell 'Sheet1'.E1>,\n",
       "  <Cell 'Sheet1'.F1>),\n",
       " (<Cell 'Sheet1'.A2>,\n",
       "  <Cell 'Sheet1'.B2>,\n",
       "  <Cell 'Sheet1'.C2>,\n",
       "  <Cell 'Sheet1'.D2>,\n",
       "  <Cell 'Sheet1'.E2>,\n",
       "  <Cell 'Sheet1'.F2>),\n",
       " (<Cell 'Sheet1'.A3>,\n",
       "  <Cell 'Sheet1'.B3>,\n",
       "  <Cell 'Sheet1'.C3>,\n",
       "  <Cell 'Sheet1'.D3>,\n",
       "  <Cell 'Sheet1'.E3>,\n",
       "  <Cell 'Sheet1'.F3>),\n",
       " (<Cell 'Sheet1'.A4>,\n",
       "  <Cell 'Sheet1'.B4>,\n",
       "  <Cell 'Sheet1'.C4>,\n",
       "  <Cell 'Sheet1'.D4>,\n",
       "  <Cell 'Sheet1'.E4>,\n",
       "  <Cell 'Sheet1'.F4>),\n",
       " (<Cell 'Sheet1'.A5>,\n",
       "  <Cell 'Sheet1'.B5>,\n",
       "  <Cell 'Sheet1'.C5>,\n",
       "  <Cell 'Sheet1'.D5>,\n",
       "  <Cell 'Sheet1'.E5>,\n",
       "  <Cell 'Sheet1'.F5>),\n",
       " (<Cell 'Sheet1'.A6>,\n",
       "  <Cell 'Sheet1'.B6>,\n",
       "  <Cell 'Sheet1'.C6>,\n",
       "  <Cell 'Sheet1'.D6>,\n",
       "  <Cell 'Sheet1'.E6>,\n",
       "  <Cell 'Sheet1'.F6>),\n",
       " (<Cell 'Sheet1'.A7>,\n",
       "  <Cell 'Sheet1'.B7>,\n",
       "  <Cell 'Sheet1'.C7>,\n",
       "  <Cell 'Sheet1'.D7>,\n",
       "  <Cell 'Sheet1'.E7>,\n",
       "  <Cell 'Sheet1'.F7>),\n",
       " (<Cell 'Sheet1'.A8>,\n",
       "  <Cell 'Sheet1'.B8>,\n",
       "  <Cell 'Sheet1'.C8>,\n",
       "  <Cell 'Sheet1'.D8>,\n",
       "  <Cell 'Sheet1'.E8>,\n",
       "  <Cell 'Sheet1'.F8>),\n",
       " (<Cell 'Sheet1'.A9>,\n",
       "  <Cell 'Sheet1'.B9>,\n",
       "  <Cell 'Sheet1'.C9>,\n",
       "  <Cell 'Sheet1'.D9>,\n",
       "  <Cell 'Sheet1'.E9>,\n",
       "  <Cell 'Sheet1'.F9>),\n",
       " (<Cell 'Sheet1'.A10>,\n",
       "  <Cell 'Sheet1'.B10>,\n",
       "  <Cell 'Sheet1'.C10>,\n",
       "  <Cell 'Sheet1'.D10>,\n",
       "  <Cell 'Sheet1'.E10>,\n",
       "  <Cell 'Sheet1'.F10>))"
      ]
     },
     "execution_count": 227,
     "metadata": {},
     "output_type": "execute_result"
    }
   ],
   "source": [
    "sheet[\"A1\":\"F10\"]"
   ]
  },
  {
   "cell_type": "code",
   "execution_count": 230,
   "metadata": {},
   "outputs": [
    {
     "name": "stdout",
     "output_type": "stream",
     "text": [
      "co1\n",
      "co2\n",
      "co3\n",
      "co4\n",
      "co5\n",
      "co6\n",
      "mohammed\n",
      "1.354\n",
      "0.26\n",
      "0.2181\n",
      "1.384\n",
      "0.559\n",
      "1950\n",
      "1.569\n",
      "0.278\n",
      "0.3157\n",
      "1.388\n",
      "0.573\n",
      "1951\n",
      "1.948\n",
      "0.297\n",
      "0.394\n",
      "1.55\n",
      "0.564\n",
      "1952\n",
      "2.265\n",
      "0.31\n",
      "0.3559\n",
      "1.802\n",
      "0.574\n",
      "1953\n",
      "2.731\n",
      "0.322\n",
      "0.3593\n",
      "1.926\n",
      "0.711\n",
      "1954\n",
      "3.025\n",
      "0.335\n",
      "0.4025\n",
      "1.964\n",
      "0.776\n",
      "1955\n",
      "3.562\n",
      "0.35\n",
      "0.3961\n",
      "2.116\n",
      "0.827\n",
      "1956\n",
      "3.979\n",
      "0.361\n",
      "0.3822\n",
      "2.435\n",
      "0.8\n",
      "1957\n",
      "4.42\n",
      "0.379\n",
      "0.3045\n",
      "2.707\n",
      "0.921\n"
     ]
    }
   ],
   "source": [
    "for row in sheet[\"A1\":\"F10\"]:\n",
    "    for cell in row:\n",
    "        print(cell.value)"
   ]
  },
  {
   "cell_type": "markdown",
   "metadata": {},
   "source": [
    "### get the sheet shape"
   ]
  },
  {
   "cell_type": "code",
   "execution_count": 234,
   "metadata": {},
   "outputs": [
    {
     "data": {
      "text/plain": [
       "'A1:F33'"
      ]
     },
     "execution_count": 234,
     "metadata": {},
     "output_type": "execute_result"
    }
   ],
   "source": [
    "sheet.dimensions"
   ]
  },
  {
   "cell_type": "code",
   "execution_count": 237,
   "metadata": {},
   "outputs": [
    {
     "data": {
      "text/plain": [
       "33"
      ]
     },
     "execution_count": 237,
     "metadata": {},
     "output_type": "execute_result"
    }
   ],
   "source": [
    "sheet.max_row"
   ]
  },
  {
   "cell_type": "code",
   "execution_count": 238,
   "metadata": {},
   "outputs": [
    {
     "data": {
      "text/plain": [
       "6"
      ]
     },
     "execution_count": 238,
     "metadata": {},
     "output_type": "execute_result"
    }
   ],
   "source": [
    "sheet.max_column"
   ]
  },
  {
   "cell_type": "markdown",
   "metadata": {},
   "source": [
    "### write a formula"
   ]
  },
  {
   "cell_type": "code",
   "execution_count": 243,
   "metadata": {},
   "outputs": [],
   "source": [
    "sheet[\"A33\"].value=\"=SUM(A3:A32)\""
   ]
  },
  {
   "cell_type": "code",
   "execution_count": 244,
   "metadata": {},
   "outputs": [],
   "source": [
    "wb.save(\"airline-july.xlsx\")"
   ]
  },
  {
   "cell_type": "markdown",
   "metadata": {},
   "source": [
    "### setting Fonts and format"
   ]
  },
  {
   "cell_type": "code",
   "execution_count": 251,
   "metadata": {},
   "outputs": [],
   "source": [
    "style=openpyxl.styles.Font(name=\"Calibri\",size=22,bold=True,color=\"ff0000\")"
   ]
  },
  {
   "cell_type": "code",
   "execution_count": 252,
   "metadata": {},
   "outputs": [],
   "source": [
    "sheet[\"A1\"].font=style"
   ]
  },
  {
   "cell_type": "code",
   "execution_count": 253,
   "metadata": {},
   "outputs": [],
   "source": [
    "wb.save(\"airline-july.xlsx\")"
   ]
  },
  {
   "cell_type": "markdown",
   "metadata": {},
   "source": [
    "### merging cells and freezing panes"
   ]
  },
  {
   "cell_type": "code",
   "execution_count": 254,
   "metadata": {},
   "outputs": [],
   "source": [
    "sheet.merge_cells(\"A1:F1\")\n",
    "wb.save(\"airline-july.xlsx\")"
   ]
  },
  {
   "cell_type": "code",
   "execution_count": 273,
   "metadata": {},
   "outputs": [],
   "source": [
    "sheet.freeze_panes=\"B3\""
   ]
  },
  {
   "cell_type": "code",
   "execution_count": 274,
   "metadata": {},
   "outputs": [],
   "source": [
    "wb.save(\"airline-july.xlsx\")"
   ]
  },
  {
   "cell_type": "markdown",
   "metadata": {},
   "source": [
    "### connecting with sqlite database"
   ]
  },
  {
   "cell_type": "code",
   "execution_count": 275,
   "metadata": {},
   "outputs": [],
   "source": [
    "import sqlite3"
   ]
  },
  {
   "cell_type": "code",
   "execution_count": 280,
   "metadata": {},
   "outputs": [],
   "source": [
    "db=sqlite3.connect(r\"C:\\Users\\etisalat\\DB-July.db\")"
   ]
  },
  {
   "cell_type": "code",
   "execution_count": 281,
   "metadata": {},
   "outputs": [
    {
     "data": {
      "text/plain": [
       "<sqlite3.Connection at 0x1926af10>"
      ]
     },
     "execution_count": 281,
     "metadata": {},
     "output_type": "execute_result"
    }
   ],
   "source": [
    "db"
   ]
  },
  {
   "cell_type": "markdown",
   "metadata": {},
   "source": [
    "### Read a data from DB"
   ]
  },
  {
   "cell_type": "code",
   "execution_count": 288,
   "metadata": {},
   "outputs": [
    {
     "name": "stdout",
     "output_type": "stream",
     "text": [
      "[(2, 'ali', 'engineer'), (3, 'ahmad', 'Sr.Manager'), (4, 'salem', 'Director')]\n"
     ]
    }
   ],
   "source": [
    "qry=\"SELECT * FROM table1;\"\n",
    "cur=db.cursor()\n",
    "cur.execute(qry)\n",
    "result=cur.fetchall()\n",
    "print(result)"
   ]
  },
  {
   "cell_type": "markdown",
   "metadata": {},
   "source": [
    "### insert"
   ]
  },
  {
   "cell_type": "code",
   "execution_count": 283,
   "metadata": {},
   "outputs": [
    {
     "name": "stdout",
     "output_type": "stream",
     "text": [
      "Done\n"
     ]
    }
   ],
   "source": [
    "qry='INSERT INTO table1 (Name, Position) VALUES (\"salem\", \"Director\");'\n",
    "cur=db.cursor()\n",
    "cur.execute(qry)\n",
    "db.commit()\n",
    "print(\"Done\")"
   ]
  },
  {
   "cell_type": "markdown",
   "metadata": {},
   "source": [
    "### Delete"
   ]
  },
  {
   "cell_type": "code",
   "execution_count": 285,
   "metadata": {},
   "outputs": [
    {
     "name": "stdout",
     "output_type": "stream",
     "text": [
      "Done\n"
     ]
    }
   ],
   "source": [
    "qry='DELETE FROM table1 WHERE \"Name\"=\"mohammed\";'\n",
    "cur=db.cursor()\n",
    "cur.execute(qry)\n",
    "db.commit()\n",
    "print(\"Done\")"
   ]
  },
  {
   "cell_type": "markdown",
   "metadata": {},
   "source": [
    "### Update"
   ]
  },
  {
   "cell_type": "code",
   "execution_count": 287,
   "metadata": {},
   "outputs": [
    {
     "name": "stdout",
     "output_type": "stream",
     "text": [
      "Done\n"
     ]
    }
   ],
   "source": [
    "qry='UPDATE table1 SET \"Position\" = \"Sr.Manager\" WHERE \"Name\"=\"ahmad\";'\n",
    "cur=db.cursor()\n",
    "cur.execute(qry)\n",
    "db.commit()\n",
    "print(\"Done\")"
   ]
  },
  {
   "cell_type": "markdown",
   "metadata": {},
   "source": [
    "### Creating a table in DB"
   ]
  },
  {
   "cell_type": "code",
   "execution_count": 289,
   "metadata": {},
   "outputs": [
    {
     "name": "stdout",
     "output_type": "stream",
     "text": [
      "Done\n"
     ]
    }
   ],
   "source": [
    "qry='CREATE TABLE table2 (name TEXT ,position TEXT);'\n",
    "cur=db.cursor()\n",
    "cur.execute(qry)\n",
    "print(\"Done\")"
   ]
  },
  {
   "cell_type": "code",
   "execution_count": 290,
   "metadata": {},
   "outputs": [
    {
     "name": "stdout",
     "output_type": "stream",
     "text": [
      "[]\n"
     ]
    }
   ],
   "source": [
    "qry=\"SELECT * FROM table2;\"\n",
    "cur=db.cursor()\n",
    "cur.execute(qry)\n",
    "result=cur.fetchall()\n",
    "print(result)"
   ]
  },
  {
   "cell_type": "markdown",
   "metadata": {},
   "source": [
    "### Sending Email "
   ]
  },
  {
   "cell_type": "code",
   "execution_count": 1,
   "metadata": {},
   "outputs": [],
   "source": [
    "import smtplib"
   ]
  },
  {
   "cell_type": "code",
   "execution_count": 2,
   "metadata": {},
   "outputs": [
    {
     "data": {
      "text/plain": [
       "(220, b'2.0.0 Ready to start TLS')"
      ]
     },
     "execution_count": 2,
     "metadata": {},
     "output_type": "execute_result"
    }
   ],
   "source": [
    "content = \"test email\"\n",
    "mail= smtplib.SMTP('smtp.gmail.com',587)\n",
    "\n",
    "mail.starttls()"
   ]
  },
  {
   "cell_type": "code",
   "execution_count": 9,
   "metadata": {},
   "outputs": [
    {
     "data": {
      "text/plain": [
       "{}"
      ]
     },
     "execution_count": 9,
     "metadata": {},
     "output_type": "execute_result"
    }
   ],
   "source": [
    "mail.login (\"youremail@gmail.com\",\"yourpassword\")\n",
    "mail.sendmail('youremail@gmail.com','mohammshahin@gmail.com','subject:yourname...\\n\\n'+content)"
   ]
  },
  {
   "cell_type": "markdown",
   "metadata": {},
   "source": [
    "### Create a GUI "
   ]
  },
  {
   "cell_type": "code",
   "execution_count": null,
   "metadata": {},
   "outputs": [],
   "source": [
    "#import smtplib\n",
    "#import smtplib as smtp\n",
    "#from smtplib import SMTP\n",
    "#from smtplib import *"
   ]
  },
  {
   "cell_type": "markdown",
   "metadata": {},
   "source": [
    "### Creating the main window"
   ]
  },
  {
   "cell_type": "code",
   "execution_count": 18,
   "metadata": {},
   "outputs": [],
   "source": [
    "#from tkinter import *\n",
    "import tkinter\n",
    "root=tkinter.Tk()\n",
    "root.title(\"my project\")\n",
    "root.geometry(\"500x500\")\n",
    "root.mainloop()"
   ]
  },
  {
   "cell_type": "markdown",
   "metadata": {},
   "source": [
    "### Create a Label"
   ]
  },
  {
   "cell_type": "code",
   "execution_count": 23,
   "metadata": {},
   "outputs": [],
   "source": [
    "root=tkinter.Tk()\n",
    "root.title(\"my project\")\n",
    "root.geometry(\"500x500\")\n",
    "\n",
    "label1=tkinter.Label(root,text=\"Technology Academy Project\",background=\"red\",foreground=\"white\")\n",
    "label1.pack()\n",
    "\n",
    "label2=tkinter.Label(root,text=\"Created by Marwan\",foreground=\"black\")\n",
    "label2.pack()\n",
    "\n",
    "root.mainloop()"
   ]
  },
  {
   "cell_type": "markdown",
   "metadata": {},
   "source": [
    "### Create a button"
   ]
  },
  {
   "cell_type": "code",
   "execution_count": 26,
   "metadata": {},
   "outputs": [],
   "source": [
    "root=tkinter.Tk()\n",
    "root.title(\"my project\")\n",
    "root.geometry(\"500x500\")\n",
    "\n",
    "label1=tkinter.Label(root,text=\"Technology Academy Project\",background=\"red\",foreground=\"white\")\n",
    "label1.pack()\n",
    "\n",
    "label2=tkinter.Label(root,text=\"Created by Marwan\",foreground=\"black\")\n",
    "label2.pack()\n",
    "\n",
    "button1=tkinter.Button(root,text=\"click me!!\")\n",
    "button1.pack()\n",
    "\n",
    "root.mainloop()"
   ]
  },
  {
   "cell_type": "markdown",
   "metadata": {},
   "source": [
    "### Layout using Grid"
   ]
  },
  {
   "cell_type": "code",
   "execution_count": 32,
   "metadata": {},
   "outputs": [],
   "source": [
    "root=tkinter.Tk()\n",
    "root.title(\"my project\")\n",
    "root.geometry(\"500x500\")\n",
    "\n",
    "label1=tkinter.Label(root,text=\"Technology Academy Project\",background=\"red\",foreground=\"white\")\n",
    "#label1.pack()\n",
    "label1.grid(row=0,column=0)\n",
    "\n",
    "label2=tkinter.Label(root,text=\"Created by Marwan\",foreground=\"black\")\n",
    "#label2.pack()\n",
    "label2.grid(row=1,column=0)\n",
    "\n",
    "button1=tkinter.Button(root,text=\"click me!!\")\n",
    "#button1.pack()\n",
    "button1.grid(row=2,column=3)\n",
    "\n",
    "root.mainloop()"
   ]
  },
  {
   "cell_type": "markdown",
   "metadata": {},
   "source": [
    "### Insert Entries"
   ]
  },
  {
   "cell_type": "code",
   "execution_count": 33,
   "metadata": {},
   "outputs": [],
   "source": [
    "root=tkinter.Tk()\n",
    "root.title(\"my project\")\n",
    "root.geometry(\"500x500\")\n",
    "\n",
    "label1=tkinter.Label(root,text=\"username\",background=\"red\",foreground=\"white\")\n",
    "#label1.pack()\n",
    "label1.grid(row=0,column=0)\n",
    "\n",
    "entry1=tkinter.Entry(root)\n",
    "entry1.grid(row=0,column=1)\n",
    "\n",
    "label2=tkinter.Label(root,text=\"password\",foreground=\"black\")\n",
    "#label2.pack()\n",
    "label2.grid(row=1,column=0)\n",
    "\n",
    "entry2=tkinter.Entry(root)\n",
    "entry2.grid(row=1,column=1)\n",
    "\n",
    "button1=tkinter.Button(root,text=\"login\")\n",
    "#button1.pack()\n",
    "button1.grid(row=2,column=3)\n",
    "\n",
    "root.mainloop()"
   ]
  },
  {
   "cell_type": "markdown",
   "metadata": {},
   "source": [
    "### Check button"
   ]
  },
  {
   "cell_type": "code",
   "execution_count": 38,
   "metadata": {},
   "outputs": [],
   "source": [
    "root=tkinter.Tk()\n",
    "root.title(\"my project\")\n",
    "root.geometry(\"500x500\")\n",
    "\n",
    "label1=tkinter.Label(root,text=\"username\",background=\"red\",foreground=\"white\")\n",
    "#label1.pack()\n",
    "label1.grid(row=0,column=0)\n",
    "\n",
    "entry1=tkinter.Entry(root)\n",
    "entry1.grid(row=0,column=1)\n",
    "\n",
    "label2=tkinter.Label(root,text=\"password\",foreground=\"black\")\n",
    "#label2.pack()\n",
    "label2.grid(row=1,column=0)\n",
    "\n",
    "entry2=tkinter.Entry(root)\n",
    "entry2.grid(row=1,column=1)\n",
    "\n",
    "check=tkinter.Checkbutton(root,text=\"remember me! \")\n",
    "check.grid(row=2,column=1)\n",
    "\n",
    "button1=tkinter.Button(root,text=\"login\")\n",
    "#button1.pack()\n",
    "button1.grid(row=2,column=3)\n",
    "\n",
    "root.mainloop()"
   ]
  },
  {
   "cell_type": "markdown",
   "metadata": {},
   "source": [
    "### how to perform action using a button"
   ]
  },
  {
   "cell_type": "code",
   "execution_count": 39,
   "metadata": {},
   "outputs": [
    {
     "name": "stdout",
     "output_type": "stream",
     "text": [
      "clicked !!\n",
      "clicked !!\n",
      "clicked !!\n",
      "clicked !!\n",
      "clicked !!\n",
      "clicked !!\n",
      "clicked !!\n"
     ]
    }
   ],
   "source": [
    "root=tkinter.Tk()\n",
    "root.title(\"my project\")\n",
    "root.geometry(\"500x500\")\n",
    "\n",
    "def action():\n",
    "    print(\"clicked !!\")\n",
    "\n",
    "label1=tkinter.Label(root,text=\"username\",background=\"red\",foreground=\"white\")\n",
    "#label1.pack()\n",
    "label1.grid(row=0,column=0)\n",
    "\n",
    "entry1=tkinter.Entry(root)\n",
    "entry1.grid(row=0,column=1)\n",
    "\n",
    "label2=tkinter.Label(root,text=\"password\",foreground=\"black\")\n",
    "#label2.pack()\n",
    "label2.grid(row=1,column=0)\n",
    "\n",
    "entry2=tkinter.Entry(root)\n",
    "entry2.grid(row=1,column=1)\n",
    "\n",
    "check=tkinter.Checkbutton(root,text=\"remember me! \")\n",
    "check.grid(row=2,column=1)\n",
    "\n",
    "button1=tkinter.Button(root,text=\"login\",command=action) #lambda function\n",
    "#button1.pack()\n",
    "button1.grid(row=2,column=3)\n",
    "\n",
    "root.mainloop()"
   ]
  },
  {
   "cell_type": "markdown",
   "metadata": {},
   "source": [
    "### Get data entry value"
   ]
  },
  {
   "cell_type": "code",
   "execution_count": 73,
   "metadata": {},
   "outputs": [],
   "source": [
    "root=tkinter.Tk()\n",
    "root.title(\"my project\")\n",
    "root.geometry(\"500x500\")\n",
    "\n",
    "def action():\n",
    "    print(\"clicked !!\")\n",
    "    \n",
    "a=tkinter.StringVar()\n",
    "b=tkinter.IntVar()\n",
    "\n",
    "label1=tkinter.Label(root,text=\"username\",background=\"red\",foreground=\"white\")\n",
    "#label1.pack()\n",
    "label1.grid(row=0,column=0)\n",
    "\n",
    "entry1=tkinter.Entry(root,textvariable=a)\n",
    "entry1.grid(row=0,column=1)\n",
    "\n",
    "label2=tkinter.Label(root,text=\"password\",foreground=\"black\")\n",
    "#label2.pack()\n",
    "label2.grid(row=1,column=0)\n",
    "\n",
    "entry2=tkinter.Entry(root)\n",
    "entry2.grid(row=1,column=1)\n",
    "\n",
    "check=tkinter.Checkbutton(root,text=\"remember me! \",variable=b)\n",
    "check.grid(row=2,column=1)\n",
    "\n",
    "button1=tkinter.Button(root,text=\"login\",command=action) #lambda function\n",
    "#button1.pack()\n",
    "button1.grid(row=2,column=3)\n",
    "\n",
    "root.mainloop()\n"
   ]
  },
  {
   "cell_type": "code",
   "execution_count": 60,
   "metadata": {},
   "outputs": [
    {
     "data": {
      "text/plain": [
       "''"
      ]
     },
     "execution_count": 60,
     "metadata": {},
     "output_type": "execute_result"
    }
   ],
   "source": [
    "a.get()"
   ]
  },
  {
   "cell_type": "code",
   "execution_count": 61,
   "metadata": {},
   "outputs": [
    {
     "data": {
      "text/plain": [
       "0"
      ]
     },
     "execution_count": 61,
     "metadata": {},
     "output_type": "execute_result"
    }
   ],
   "source": [
    "b.get()"
   ]
  },
  {
   "cell_type": "markdown",
   "metadata": {},
   "source": [
    "### Radio Button"
   ]
  },
  {
   "cell_type": "code",
   "execution_count": 71,
   "metadata": {},
   "outputs": [],
   "source": [
    "root=tkinter.Tk()\n",
    "root.title(\"my project\")\n",
    "root.geometry(\"500x500\")\n",
    "\n",
    "c=tkinter.StringVar()\n",
    "\n",
    "radio1=tkinter.Radiobutton(root,text=\"low\",variable=c,value=\"low\")\n",
    "radio1.grid(row=3,column=1)\n",
    "\n",
    "radio2=tkinter.Radiobutton(root,text=\"Average\",variable=c,value=\"Average\")\n",
    "radio2.grid(row=4,column=1)\n",
    "\n",
    "radio3=tkinter.Radiobutton(root,text=\"High\",variable=c,value=\"High\")\n",
    "radio3.grid(row=5,column=1)\n",
    "\n",
    "\n",
    "root.mainloop()"
   ]
  },
  {
   "cell_type": "code",
   "execution_count": 72,
   "metadata": {},
   "outputs": [
    {
     "data": {
      "text/plain": [
       "'Average'"
      ]
     },
     "execution_count": 72,
     "metadata": {},
     "output_type": "execute_result"
    }
   ],
   "source": [
    "c.get()"
   ]
  },
  {
   "cell_type": "code",
   "execution_count": null,
   "metadata": {},
   "outputs": [],
   "source": []
  }
 ],
 "metadata": {
  "kernelspec": {
   "display_name": "Python 3",
   "language": "python",
   "name": "python3"
  },
  "language_info": {
   "codemirror_mode": {
    "name": "ipython",
    "version": 3
   },
   "file_extension": ".py",
   "mimetype": "text/x-python",
   "name": "python",
   "nbconvert_exporter": "python",
   "pygments_lexer": "ipython3",
   "version": "3.6.5"
  }
 },
 "nbformat": 4,
 "nbformat_minor": 2
}
